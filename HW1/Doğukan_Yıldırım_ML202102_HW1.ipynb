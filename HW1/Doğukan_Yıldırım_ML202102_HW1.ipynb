{
  "nbformat": 4,
  "nbformat_minor": 0,
  "metadata": {
    "colab": {
      "name": "Doğukan_Yıldırım_ML202102_HW1.ipynb",
      "provenance": [],
      "collapsed_sections": []
    },
    "kernelspec": {
      "name": "python3",
      "display_name": "Python 3"
    }
  },
  "cells": [
    {
      "cell_type": "markdown",
      "metadata": {
        "id": "zrzkxpZrCF6D"
      },
      "source": [
        "# CS 412 Machine Learning 2020 \n",
        "\n",
        "# Assignment 1\n",
        "\n",
        "100 pts\n",
        "\n",
        "## Goal \n",
        "\n",
        "The goal of this assignment \n",
        "\n",
        "*  Introduction to the machine learning experimental set up\n",
        "*  Gain experience with the Scikit library\n",
        "*  Gain experience with Decision tree and k-NN models\n",
        "\n",
        "## Dataset\n",
        "\n",
        "**Wine Quality Dataset** is a collection red and white wines with 12 attributes. The target variable is the 'quality' either 0 or 1\n",
        "\n",
        "\n",
        "## Task\n",
        "Build a decision tree and k-NN classifiers with the scikit-learn library function calls to **classify** the quality of wine as good (1) and bad (0)\n",
        "\n",
        "## Submission\n",
        "\n",
        "Follow the instructions at the end."
      ]
    },
    {
      "cell_type": "markdown",
      "metadata": {
        "id": "18kyKgy9LiZx"
      },
      "source": [
        "# 1) Initialize\n",
        "\n",
        "First, make a copy of this notebook in your drive"
      ]
    },
    {
      "cell_type": "code",
      "metadata": {
        "id": "eTJUORO9CBNq",
        "colab": {
          "base_uri": "https://localhost:8080/"
        },
        "outputId": "da3a7618-d6d9-44a6-86ec-ff31ebb1606f"
      },
      "source": [
        "# Mount to your drive, in this way you can reach files that are in your drive\n",
        "# Run this cell\n",
        "\n",
        "from google.colab import drive\n",
        "drive.mount('/content/drive')"
      ],
      "execution_count": null,
      "outputs": [
        {
          "output_type": "stream",
          "text": [
            "Drive already mounted at /content/drive; to attempt to forcibly remount, call drive.mount(\"/content/drive\", force_remount=True).\n"
          ],
          "name": "stdout"
        }
      ]
    },
    {
      "cell_type": "markdown",
      "metadata": {
        "id": "FtputkpVLt8H"
      },
      "source": [
        "# 2) Load Dataset\n",
        "To start working for your homework, take a copy of the folder, given in the below link to your own google drive. You find the train and test data under this folder.\n",
        "\n",
        "https://drive.google.com/drive/folders/1PC6M332CTdW-OOrgJ-1GU1F3UaRupka8?usp=sharing\n",
        "\n",
        "After copy the folder, copy the path of the train and test dataset to paste them in the below cell to load your data."
      ]
    },
    {
      "cell_type": "code",
      "metadata": {
        "id": "gB1Fur5APIjQ"
      },
      "source": [
        "import pandas as pd\n",
        "import numpy as np\n",
        "\n",
        "train_df = pd.read_csv(\"./drive/My Drive/hw1_data/winequality-train.csv\")\n",
        "test_df = pd.read_csv(\"./drive/My Drive/hw1_data/winequality-test.csv\")"
      ],
      "execution_count": null,
      "outputs": []
    },
    {
      "cell_type": "markdown",
      "metadata": {
        "id": "Rtcu1QMXMLBN"
      },
      "source": [
        "# 3) Understand the dataset\n",
        "\n",
        "You can use the fuctions that we saw in the recitations to understand the dataset"
      ]
    },
    {
      "cell_type": "code",
      "metadata": {
        "id": "KjQj6XQNMd68",
        "colab": {
          "base_uri": "https://localhost:8080/",
          "height": 230
        },
        "outputId": "17c6bc2a-d1ac-4684-c440-b2dde3da9c19"
      },
      "source": [
        "# print shape of the train and test sets\n",
        "\n",
        "print(f\"Shape of the train dataset: {train_df.shape}\")\n",
        "print(f\"Shape of the test dataset: {test_df.shape}\")\n",
        "\n",
        "\n",
        "# show random samples from the training data\n",
        "\n",
        "train_df.sample(5)"
      ],
      "execution_count": null,
      "outputs": [
        {
          "output_type": "stream",
          "text": [
            "Shape of the train dataset: (5198, 13)\n",
            "Shape of the test dataset: (1299, 13)\n"
          ],
          "name": "stdout"
        },
        {
          "output_type": "execute_result",
          "data": {
            "text/html": [
              "<div>\n",
              "<style scoped>\n",
              "    .dataframe tbody tr th:only-of-type {\n",
              "        vertical-align: middle;\n",
              "    }\n",
              "\n",
              "    .dataframe tbody tr th {\n",
              "        vertical-align: top;\n",
              "    }\n",
              "\n",
              "    .dataframe thead th {\n",
              "        text-align: right;\n",
              "    }\n",
              "</style>\n",
              "<table border=\"1\" class=\"dataframe\">\n",
              "  <thead>\n",
              "    <tr style=\"text-align: right;\">\n",
              "      <th></th>\n",
              "      <th>fixed acidity</th>\n",
              "      <th>volatile acidity</th>\n",
              "      <th>citric acid</th>\n",
              "      <th>residual sugar</th>\n",
              "      <th>chlorides</th>\n",
              "      <th>free sulfur dioxide</th>\n",
              "      <th>total sulfur dioxide</th>\n",
              "      <th>density</th>\n",
              "      <th>pH</th>\n",
              "      <th>sulphates</th>\n",
              "      <th>alcohol</th>\n",
              "      <th>wine type</th>\n",
              "      <th>quality</th>\n",
              "    </tr>\n",
              "  </thead>\n",
              "  <tbody>\n",
              "    <tr>\n",
              "      <th>1458</th>\n",
              "      <td>7.2</td>\n",
              "      <td>0.31</td>\n",
              "      <td>0.24</td>\n",
              "      <td>1.4</td>\n",
              "      <td>0.057</td>\n",
              "      <td>17.0</td>\n",
              "      <td>117.0</td>\n",
              "      <td>0.99280</td>\n",
              "      <td>3.16</td>\n",
              "      <td>0.35</td>\n",
              "      <td>10.5</td>\n",
              "      <td>0</td>\n",
              "      <td>0</td>\n",
              "    </tr>\n",
              "    <tr>\n",
              "      <th>1590</th>\n",
              "      <td>6.4</td>\n",
              "      <td>0.16</td>\n",
              "      <td>0.44</td>\n",
              "      <td>1.2</td>\n",
              "      <td>0.051</td>\n",
              "      <td>39.0</td>\n",
              "      <td>122.0</td>\n",
              "      <td>0.99058</td>\n",
              "      <td>3.11</td>\n",
              "      <td>0.75</td>\n",
              "      <td>11.3</td>\n",
              "      <td>0</td>\n",
              "      <td>1</td>\n",
              "    </tr>\n",
              "    <tr>\n",
              "      <th>1709</th>\n",
              "      <td>4.8</td>\n",
              "      <td>0.65</td>\n",
              "      <td>0.12</td>\n",
              "      <td>1.1</td>\n",
              "      <td>0.013</td>\n",
              "      <td>4.0</td>\n",
              "      <td>10.0</td>\n",
              "      <td>0.99246</td>\n",
              "      <td>3.32</td>\n",
              "      <td>0.36</td>\n",
              "      <td>13.5</td>\n",
              "      <td>0</td>\n",
              "      <td>0</td>\n",
              "    </tr>\n",
              "    <tr>\n",
              "      <th>2122</th>\n",
              "      <td>7.1</td>\n",
              "      <td>0.59</td>\n",
              "      <td>0.02</td>\n",
              "      <td>2.3</td>\n",
              "      <td>0.082</td>\n",
              "      <td>24.0</td>\n",
              "      <td>94.0</td>\n",
              "      <td>0.99744</td>\n",
              "      <td>3.55</td>\n",
              "      <td>0.53</td>\n",
              "      <td>9.7</td>\n",
              "      <td>1</td>\n",
              "      <td>0</td>\n",
              "    </tr>\n",
              "    <tr>\n",
              "      <th>1034</th>\n",
              "      <td>7.3</td>\n",
              "      <td>0.26</td>\n",
              "      <td>0.31</td>\n",
              "      <td>1.6</td>\n",
              "      <td>0.040</td>\n",
              "      <td>39.0</td>\n",
              "      <td>173.0</td>\n",
              "      <td>0.99180</td>\n",
              "      <td>3.19</td>\n",
              "      <td>0.51</td>\n",
              "      <td>11.4</td>\n",
              "      <td>0</td>\n",
              "      <td>0</td>\n",
              "    </tr>\n",
              "  </tbody>\n",
              "</table>\n",
              "</div>"
            ],
            "text/plain": [
              "      fixed acidity  volatile acidity  citric acid  ...  alcohol  wine type  quality\n",
              "1458            7.2              0.31         0.24  ...     10.5          0        0\n",
              "1590            6.4              0.16         0.44  ...     11.3          0        1\n",
              "1709            4.8              0.65         0.12  ...     13.5          0        0\n",
              "2122            7.1              0.59         0.02  ...      9.7          1        0\n",
              "1034            7.3              0.26         0.31  ...     11.4          0        0\n",
              "\n",
              "[5 rows x 13 columns]"
            ]
          },
          "metadata": {
            "tags": []
          },
          "execution_count": 24
        }
      ]
    },
    {
      "cell_type": "code",
      "metadata": {
        "id": "5B93dybOMqBF",
        "colab": {
          "base_uri": "https://localhost:8080/"
        },
        "outputId": "54a8e4c4-af60-49b4-fb0b-12d53d3a623c"
      },
      "source": [
        "# print information about the datasets (Is there any missing value? or Categorical feature?)\n",
        "\n",
        "train_df.info()\n",
        "print() # for a new line between infos\n",
        "test_df.info()"
      ],
      "execution_count": null,
      "outputs": [
        {
          "output_type": "stream",
          "text": [
            "<class 'pandas.core.frame.DataFrame'>\n",
            "RangeIndex: 5198 entries, 0 to 5197\n",
            "Data columns (total 13 columns):\n",
            " #   Column                Non-Null Count  Dtype  \n",
            "---  ------                --------------  -----  \n",
            " 0   fixed acidity         5198 non-null   float64\n",
            " 1   volatile acidity      5198 non-null   float64\n",
            " 2   citric acid           5198 non-null   float64\n",
            " 3   residual sugar        5198 non-null   float64\n",
            " 4   chlorides             5198 non-null   float64\n",
            " 5   free sulfur dioxide   5198 non-null   float64\n",
            " 6   total sulfur dioxide  5198 non-null   float64\n",
            " 7   density               5198 non-null   float64\n",
            " 8   pH                    5198 non-null   float64\n",
            " 9   sulphates             5198 non-null   float64\n",
            " 10  alcohol               5198 non-null   float64\n",
            " 11  wine type             5198 non-null   int64  \n",
            " 12  quality               5198 non-null   int64  \n",
            "dtypes: float64(11), int64(2)\n",
            "memory usage: 528.0 KB\n",
            "\n",
            "<class 'pandas.core.frame.DataFrame'>\n",
            "RangeIndex: 1299 entries, 0 to 1298\n",
            "Data columns (total 13 columns):\n",
            " #   Column                Non-Null Count  Dtype  \n",
            "---  ------                --------------  -----  \n",
            " 0   fixed acidity         1299 non-null   float64\n",
            " 1   volatile acidity      1299 non-null   float64\n",
            " 2   citric acid           1299 non-null   float64\n",
            " 3   residual sugar        1299 non-null   float64\n",
            " 4   chlorides             1299 non-null   float64\n",
            " 5   free sulfur dioxide   1299 non-null   float64\n",
            " 6   total sulfur dioxide  1299 non-null   float64\n",
            " 7   density               1299 non-null   float64\n",
            " 8   pH                    1299 non-null   float64\n",
            " 9   sulphates             1299 non-null   float64\n",
            " 10  alcohol               1299 non-null   float64\n",
            " 11  wine type             1299 non-null   int64  \n",
            " 12  quality               1299 non-null   int64  \n",
            "dtypes: float64(11), int64(2)\n",
            "memory usage: 132.1 KB\n"
          ],
          "name": "stdout"
        }
      ]
    },
    {
      "cell_type": "markdown",
      "metadata": {
        "id": "PAFQHAq8Mno1"
      },
      "source": [
        "# 4) Define train and test labels"
      ]
    },
    {
      "cell_type": "code",
      "metadata": {
        "id": "JjW1ZNhONNCb"
      },
      "source": [
        "# make sure you remove the labels from datasets\n",
        "\n",
        "train_labels = train_df.pop('quality')\n",
        "test_labels = test_df.pop('quality')"
      ],
      "execution_count": null,
      "outputs": []
    },
    {
      "cell_type": "markdown",
      "metadata": {
        "id": "4fn3N4V_OlL_"
      },
      "source": [
        "# 5) FineTune Decision Tree hyper-parameters\n",
        "\n",
        "1-Splitting dataset into train and validation"
      ]
    },
    {
      "cell_type": "code",
      "metadata": {
        "id": "hJlxVMTnYTTg"
      },
      "source": [
        "# Split training data to 70% training and 30% validation, do not forget to use the random_state parameter\n",
        "from sklearn.model_selection import train_test_split\n",
        "x_train, x_val, y_train, y_val = train_test_split(train_df, train_labels, test_size=0.3, random_state=2021)"
      ],
      "execution_count": null,
      "outputs": []
    },
    {
      "cell_type": "markdown",
      "metadata": {
        "id": "NNm9SC9JYXN2"
      },
      "source": [
        "2- FineTune minimum sample split"
      ]
    },
    {
      "cell_type": "code",
      "metadata": {
        "id": "UfTLLotIO3WX"
      },
      "source": [
        "from sklearn.tree import DecisionTreeClassifier\n",
        "\n",
        "min_samples_splits = range(2, 50)\n",
        "\n",
        "train_results = []\n",
        "val_results = []\n",
        "for min_samples_split in min_samples_splits:\n",
        "\n",
        "  # Fit the tree using the 70% portion of the training data\n",
        "  dtree = DecisionTreeClassifier(min_samples_split=min_samples_split, criterion='entropy', random_state=2021)\n",
        "  dtree.fit(x_train, y_train)\n",
        "  \n",
        "  # Evaluate on Training set\n",
        "  train_acc = dtree.score(x_train, y_train)\n",
        "  train_results.append(train_acc)\n",
        "   \n",
        "  # Evaluate on Validation set\n",
        "  val_acc = dtree.score(x_val, y_val)\n",
        "  val_results.append(val_acc)"
      ],
      "execution_count": null,
      "outputs": []
    },
    {
      "cell_type": "code",
      "metadata": {
        "id": "_jqCo52hPjkk",
        "colab": {
          "base_uri": "https://localhost:8080/",
          "height": 265
        },
        "outputId": "990d6b75-5ebf-4512-c966-63b8e607fb16"
      },
      "source": [
        "# Plot the results\n",
        "import matplotlib.pyplot as plt\n",
        "\n",
        "plt.plot(min_samples_splits, train_results, 'b')\n",
        "plt.plot(min_samples_splits, val_results,'r')\n",
        "plt.show()"
      ],
      "execution_count": null,
      "outputs": [
        {
          "output_type": "display_data",
          "data": {
            "image/png": "[encoded data removed]",
            "text/plain": [
              "<Figure size 432x288 with 1 Axes>"
            ]
          },
          "metadata": {
            "tags": [],
            "needs_background": "light"
          }
        }
      ]
    },
    {
      "cell_type": "code",
      "metadata": {
        "id": "UrZSntmRYtFL",
        "colab": {
          "base_uri": "https://localhost:8080/"
        },
        "outputId": "f16ba66c-4b29-45a2-a49d-d28fcf4ca058"
      },
      "source": [
        "# Choose the best minimum split sample based on the plot\n",
        "Best_minSampl = min_samples_splits[np.argmax(val_results)] # is equal to 3\n",
        "\n",
        "# Train decision tree using the full training data and the best minimum split sample\n",
        "best_dtree = DecisionTreeClassifier(min_samples_split=Best_minSampl, criterion='entropy', random_state=2021)\n",
        "best_dtree.fit(train_df, train_labels)\n",
        "\n",
        "# Estimate the prediction of the test data\n",
        "test_pred = best_dtree.predict(test_df)\n",
        "\n",
        "from sklearn.metrics import accuracy_score\n",
        "# Calculate accuracy of test data\n",
        "TestAcc = accuracy_score(test_labels, test_pred)\n",
        "print(\"Testing Accuracy = %.4f%%\" % (TestAcc * 100))"
      ],
      "execution_count": null,
      "outputs": [
        {
          "output_type": "stream",
          "text": [
            "Testing Accuracy = 83.3718%\n"
          ],
          "name": "stdout"
        }
      ]
    },
    {
      "cell_type": "markdown",
      "metadata": {
        "id": "a_GMi20MO3lr"
      },
      "source": [
        "# 6) Apply the same procedure but using k-NN instead of decision tree\n",
        "\n",
        "For finetuning, find the best value of K to use with this dataset."
      ]
    },
    {
      "cell_type": "code",
      "metadata": {
        "id": "SKZoNasEO9BT",
        "colab": {
          "base_uri": "https://localhost:8080/"
        },
        "outputId": "595c9f95-d12e-4826-ee08-5e524cf27ada"
      },
      "source": [
        "from sklearn.neighbors import KNeighborsClassifier\n",
        "\n",
        "# initialize the values of k to be a list of odd numbers between 1 and 30\n",
        "kVals = [k for k in range(1,30) if k % 2 != 0]\n",
        "\n",
        "# Save the accuracies of each value of kVal in [accuracies] variable\n",
        "# hint: you can use accuracies.append(...) function inside the loop\n",
        "accuracies = []\n",
        "\n",
        "# loop over values of k for the k-Nearest Neighbor classifier\n",
        "for k in kVals:\n",
        "  # Follow what we did in decision tree part\n",
        "\n",
        "  knn = KNeighborsClassifier(n_neighbors=k)\n",
        "  knn.fit(x_train, y_train)\n",
        "  \n",
        "  val_acc = knn.score(x_val, y_val)\n",
        "  accuracies.append(val_acc)\n",
        "\n",
        "print(\"Best Validation Accuracy = %.4f%%\" % (np.max(accuracies)*100))"
      ],
      "execution_count": null,
      "outputs": [
        {
          "output_type": "stream",
          "text": [
            "Best Validation Accuracy = 81.4744%\n"
          ],
          "name": "stdout"
        }
      ]
    },
    {
      "cell_type": "code",
      "metadata": {
        "id": "w1PtA576uw9t",
        "colab": {
          "base_uri": "https://localhost:8080/"
        },
        "outputId": "469190b4-6990-45bd-bae6-a827bde31f5c"
      },
      "source": [
        "# Train k-NN using the full training data with the best K that you found\n",
        "\n",
        "Best_k = kVals[np.argmax(accuracies)] # is equal to 1\n",
        "\n",
        "best_knn = KNeighborsClassifier(n_neighbors=Best_k)\n",
        "best_knn.fit(train_df, train_labels)\n",
        "\n",
        "# Testing\n",
        "\n",
        "test_pred = best_knn.predict(test_df)\n",
        "TestAcc = accuracy_score(test_labels, test_pred)\n",
        "print(\"Testing Accuracy = %.4f%%\" % (TestAcc * 100))"
      ],
      "execution_count": null,
      "outputs": [
        {
          "output_type": "stream",
          "text": [
            "Testing Accuracy = 83.2948%\n"
          ],
          "name": "stdout"
        }
      ]
    },
    {
      "cell_type": "markdown",
      "metadata": {
        "id": "KmL4-FHqO_sq"
      },
      "source": [
        "# 7) Notebook & Report\n",
        "\n",
        "Notebook: We may just look at your notebook results; so make sure each cell is run and outputs are there.\n",
        "\n",
        "Report: Write an at most 1/2 page summary of your approach to this problem at the end of your notebook; this should be like an abstract of a paper or the executive summary.\n",
        "\n",
        "Must include statements such as:\n",
        "\n",
        "( Include the problem definition: 1-2 lines )\n",
        "\n",
        "(Talk about any preprocessing you did, explain your reasoning)\n",
        "\n",
        "(Talk about train/val/test sets, size and how split)\n",
        "\n",
        "(State what your test results are with the chosen method, parameters: e.g. \"We have obtained the best results with the ….. classifier (parameters=....) , giving classification accuracy of …% on test data….\")\n",
        "\n",
        "(Comment on the speed of the algorithms and anything else that you deem important/interesting)\n",
        "\n",
        "\n",
        "You will get full points from here as long as you have a good (enough) summary of your work, regardless of your best performance or what you have decided to talk about in the last few lines.\n",
        "\n"
      ]
    },
    {
      "cell_type": "markdown",
      "metadata": {
        "id": "YBjX29muPFu0"
      },
      "source": [
        "# Write your report in this cell\n",
        "\n",
        "## My Report\n",
        "**Problem Definition:** \n",
        "\n",
        "With the given dataset `Wine Quality Dataset`, which contains 4898 rows and 12 attributes where each row is a unique wine, our task was to implement Decision Tree and k-NN classifiers to classify and predict a given wine's quality as either 0 or 1. \n",
        "\n",
        "**For preprocessing:** \n",
        "\n",
        "Printed out the shapes of both the train and test data sets and checked whether there are any missing values and whether there are categorical features. There were no missing values to be filled or imputed, and there were no categorical features so there wasn't a reason to use `pd.get_dummies()` / one-hot-encoding.\n",
        "\n",
        "Also, no numeric features were scaled or standardized since I think we are not meant to do any scaling/standardization in the scope of this homework, but given chance, I would have used `StandardScaler` from from `sklearn.preprocessing` to scale the features to improve the accuracy scores I have obtained.\n",
        "\n",
        "Seperated the labels from features in both train and test datasets with `.pop()` method.\n",
        "\n",
        "**Train/val/test sets, size and how split:** \n",
        "\n",
        "Split the training data to 70% training and 30% validation, and used the validation data and the accuracy score obtained with validation data to determine the best hyper-parameters for the Decision Tree and k-NN classifiers. Test set was given to us in a seperate file and was only used to print out the accuracy score on the test set.\n",
        "\n",
        "**Test results, best hyperparameters, classification accuracy scores:**\n",
        "\n",
        "We have obtained the best results with the Decision Tree Classifier (`hyperparameters=(min_samples_split=3, criterion='entropy', random_state=2021)`, `the rest is default hyperparameters`) , giving classification accuracy of **83.3718%** on test data.\n",
        "\n",
        "k-NN Classifier (`hyperparameters=(n_neighbors=1)`, `the rest is default hyperparameters`) , gave a classification accuracy of **83.2948%** on test data.\n",
        "\n",
        "**Comments:**\n",
        "\n",
        "Since our dataset is not large, I think the speeds of the both algorithms are in the acceptable range. They are not painfully slow like one of the examples we avoided doing in the recitation :D Other than that, I found it weird that, with my current random state, adjusting hyperparameters mostly did not seem to lead to any improvements on the accuracy score. What can we say about this?\n",
        "\n",
        "Can't wait to dive into more complex and harder homeworks in the future! **DON'T FORGET** to check the 9th section if you have time :)"
      ]
    },
    {
      "cell_type": "markdown",
      "metadata": {
        "id": "lYlDdIFZPKmv"
      },
      "source": [
        "# 8) Submission\n",
        "You will submit this homework via SUCourse.\n",
        "\n",
        "\n",
        "Please read this document again before submitting it.\n",
        "\n",
        "Please submit your **\"share link\" INLINE in Sucourse submissions.** That is we should be able to click on the link and go there and run (and possibly also modify) your code.\n",
        "\n",
        "For us to be able to modify, in case of errors etc, you should get your \"share link\" as **share with anyone in edit mode** \n",
        "\n",
        "Download the **.ipynb and the .html** file and upload both of them to Sucourse.\n",
        " \n",
        "Please do your assignment individually, do not copy from a friend or the Internet. Plagiarized assignments will receive -100.\n"
      ]
    },
    {
      "cell_type": "markdown",
      "metadata": {
        "id": "fQUrWmxFbGw5"
      },
      "source": [
        "#9) WHAT IF?"
      ]
    },
    {
      "cell_type": "markdown",
      "metadata": {
        "id": "U4aTIq6ubLvp"
      },
      "source": [
        "Let's keep going, and try to get better accuracy scores! I mean, I would regret not doing the things I mentioned in my report :p"
      ]
    },
    {
      "cell_type": "code",
      "metadata": {
        "id": "xhqGOtN-fSML"
      },
      "source": [
        "# Extra Cell\n",
        "numeric_cols = ['fixed acidity', 'volatile acidity', 'citric acid', 'residual sugar',\n",
        "       'chlorides', 'free sulfur dioxide', 'total sulfur dioxide', 'density',\n",
        "       'pH', 'sulphates', 'alcohol'] # these are the numeric columns\n",
        "\n",
        "train_df_num = train_df[numeric_cols]\n",
        "test_df_num = test_df[numeric_cols]"
      ],
      "execution_count": null,
      "outputs": []
    },
    {
      "cell_type": "code",
      "metadata": {
        "id": "NSPNTO3KhYC7"
      },
      "source": [
        "# Extra Cell\n",
        "from sklearn.preprocessing import StandardScaler\n",
        "\n",
        "sc = StandardScaler()\n",
        "\n",
        "scaled_train_df_num = pd.DataFrame(sc.fit_transform(train_df_num), columns=numeric_cols)\n",
        "scaled_train_df = pd.concat((scaled_train_df_num, train_df[\"wine type\"]), axis = 1)\n",
        "\n",
        "scaled_test_df_num = pd.DataFrame(sc.fit_transform(test_df_num), columns=numeric_cols)\n",
        "scaled_test_df = pd.concat((scaled_test_df_num, test_df[\"wine type\"]), axis = 1)"
      ],
      "execution_count": null,
      "outputs": []
    },
    {
      "cell_type": "code",
      "metadata": {
        "id": "bNAbVpuZkdyZ"
      },
      "source": [
        "# Extra Cell\n",
        "scaled_x_train, scaled_x_val, scaled_y_train, scaled_y_val = train_test_split(scaled_train_df, train_labels, test_size=0.3, random_state=2021)"
      ],
      "execution_count": null,
      "outputs": []
    },
    {
      "cell_type": "code",
      "metadata": {
        "colab": {
          "base_uri": "https://localhost:8080/"
        },
        "id": "8uAP42dakKTX",
        "outputId": "c8104b79-6ec7-46ff-bd46-2d89d8937d73"
      },
      "source": [
        "# Extra Cell\n",
        "# initialize the values of k to be a list of odd numbers between 1 and 30\n",
        "scaled_kVals = [k for k in range(1,30) if k % 2 != 0]\n",
        "\n",
        "# Save the accuracies of each value of kVal in [accuracies] variable\n",
        "# hint: you can use accuracies.append(...) function inside the loop\n",
        "scaled_accuracies = []\n",
        "\n",
        "# loop over values of k for the k-Nearest Neighbor classifier\n",
        "for k in scaled_kVals:\n",
        "  # Follow what we did in decision tree part\n",
        "\n",
        "  scaled_knn = KNeighborsClassifier(n_neighbors=k)\n",
        "  scaled_knn.fit(scaled_x_train, scaled_y_train)\n",
        "  \n",
        "  scaled_val_acc = scaled_knn.score(scaled_x_val, scaled_y_val)\n",
        "  scaled_accuracies.append(scaled_val_acc)\n",
        "\n",
        "print(\"Best Validation Accuracy = %.4f%%\" % (np.max(scaled_accuracies)*100))"
      ],
      "execution_count": null,
      "outputs": [
        {
          "output_type": "stream",
          "text": [
            "Best Validation Accuracy = 84.3590%\n"
          ],
          "name": "stdout"
        }
      ]
    },
    {
      "cell_type": "code",
      "metadata": {
        "colab": {
          "base_uri": "https://localhost:8080/",
          "height": 405
        },
        "id": "-O9hJcwUkyzj",
        "outputId": "8a42e436-43fa-4314-fe52-0f00f28681eb"
      },
      "source": [
        "# Extra Cell\n",
        "# This code was taken and heavily modified from CS210 Recitation Decision Trees Notebook of last semester =)\n",
        "# Probably was originally written by CS210 TA Hasan Alp Boz but I am not sure\n",
        "\n",
        "fig, ax = plt.subplots(figsize = (10, 6))\n",
        "\n",
        "ax.plot(scaled_accuracies, color=\"r\", marker=\"o\", ls=\"-\", label=\"Validation Set Accuracies\")\n",
        "\n",
        "ax.set_title(\"Accuracy Scores by n_neighbors\")\n",
        "\n",
        "ax.set_xlabel(\"n_neighbors\")\n",
        "ax.set_xticks(np.arange(len(scaled_kVals)))\n",
        "ax.set_xticklabels(scaled_kVals)\n",
        "ax.set_ylabel(\"Accuracy Score\")\n",
        "y_ticks = np.linspace(0.75, 1.0, 10)\n",
        "ax.set_yticks(y_ticks)\n",
        "ax.set_yticklabels([f\"{y_tick * 100:.1f}%\" for y_tick in y_ticks])\n",
        "\n",
        "ax.legend()\n",
        "plt.grid()"
      ],
      "execution_count": null,
      "outputs": [
        {
          "output_type": "display_data",
          "data": {
            "image/png": "[encoded data removed]",
            "text/plain": [
              "<Figure size 720x432 with 1 Axes>"
            ]
          },
          "metadata": {
            "tags": [],
            "needs_background": "light"
          }
        }
      ]
    },
    {
      "cell_type": "code",
      "metadata": {
        "colab": {
          "base_uri": "https://localhost:8080/"
        },
        "id": "F3PFnQezlasU",
        "outputId": "a4237ea6-0076-41dc-b012-ec97abb58e60"
      },
      "source": [
        "# Extra Cell\n",
        "\n",
        "# Train k-NN using the full training data with the best K that you found\n",
        "\n",
        "scaled_Best_k = scaled_kVals[np.argmax(scaled_accuracies)] # is equal to 1\n",
        "\n",
        "scaled_best_knn = KNeighborsClassifier(n_neighbors=scaled_Best_k)\n",
        "scaled_best_knn.fit(scaled_train_df, train_labels)\n",
        "\n",
        "# Testing\n",
        "\n",
        "scaled_test_pred = scaled_best_knn.predict(scaled_test_df)\n",
        "scaled_TestAcc = accuracy_score(test_labels, scaled_test_pred)\n",
        "print(\"Testing Accuracy = %.4f%%\" % (scaled_TestAcc * 100))"
      ],
      "execution_count": null,
      "outputs": [
        {
          "output_type": "stream",
          "text": [
            "Testing Accuracy = 85.2194%\n"
          ],
          "name": "stdout"
        }
      ]
    },
    {
      "cell_type": "markdown",
      "metadata": {
        "id": "KedfyiZRmJ8E"
      },
      "source": [
        "From **83.2948%** to **85.2194%**\n",
        "\n",
        "*IT BARELY IMPROVED*\n",
        "\n",
        "I want my time back ; _ ;\n",
        "\n",
        "Damn you random state 2021! \n",
        "\n",
        "I must have an unbalanced validation set from the split I think???"
      ]
    }
  ]
}