{
  "nbformat": 4,
  "nbformat_minor": 0,
  "metadata": {
    "colab": {
      "name": "Doğukan_Yıldırım_ML202102_HW2.ipynb",
      "provenance": [],
      "collapsed_sections": []
    },
    "kernelspec": {
      "name": "python3",
      "display_name": "Python 3"
    },
    "language_info": {
      "name": "python"
    }
  },
  "cells": [
    {
      "cell_type": "markdown",
      "metadata": {
        "id": "n6f3WFyeQorD"
      },
      "source": [
        "# Initializing and Importing Some of the Required Libraries\n"
      ]
    },
    {
      "cell_type": "code",
      "metadata": {
        "colab": {
          "base_uri": "https://localhost:8080/"
        },
        "id": "x9VJ7QMqLeO_",
        "outputId": "633f01a4-f837-461c-a916-bba68c1a935c"
      },
      "source": [
        "from google.colab import drive\n",
        "drive.mount('/content/drive')"
      ],
      "execution_count": 1,
      "outputs": [
        {
          "output_type": "stream",
          "text": [
            "Drive already mounted at /content/drive; to attempt to forcibly remount, call drive.mount(\"/content/drive\", force_remount=True).\n"
          ],
          "name": "stdout"
        }
      ]
    },
    {
      "cell_type": "code",
      "metadata": {
        "id": "nZAEoyF1RNyn"
      },
      "source": [
        "import pandas as pd\n",
        "import numpy as np\n",
        "import matplotlib.pyplot as plt\n",
        "\n",
        "%matplotlib inline\n",
        "\n",
        "import warnings\n",
        "warnings.filterwarnings('ignore')"
      ],
      "execution_count": 2,
      "outputs": []
    },
    {
      "cell_type": "markdown",
      "metadata": {
        "id": "MdSew9LPRTUo"
      },
      "source": [
        "# Loading the Dataset"
      ]
    },
    {
      "cell_type": "code",
      "metadata": {
        "id": "6sTSrziKLwzY"
      },
      "source": [
        "df = pd.read_csv(\"./drive/My Drive/hw2_data/Real estate.csv\")"
      ],
      "execution_count": 3,
      "outputs": []
    },
    {
      "cell_type": "markdown",
      "metadata": {
        "id": "FClI6B3ORiB-"
      },
      "source": [
        "# (a)"
      ]
    },
    {
      "cell_type": "markdown",
      "metadata": {
        "id": "N56s5NnZ0sUc"
      },
      "source": [
        "Checking for general info about the dataset and categorical attributes."
      ]
    },
    {
      "cell_type": "code",
      "metadata": {
        "colab": {
          "base_uri": "https://localhost:8080/"
        },
        "id": "5G8F5pWHxN4P",
        "outputId": "1672119e-3a49-40e4-be7e-149016591bf9"
      },
      "source": [
        "df.info()"
      ],
      "execution_count": 4,
      "outputs": [
        {
          "output_type": "stream",
          "text": [
            "<class 'pandas.core.frame.DataFrame'>\n",
            "RangeIndex: 414 entries, 0 to 413\n",
            "Data columns (total 8 columns):\n",
            " #   Column                                  Non-Null Count  Dtype  \n",
            "---  ------                                  --------------  -----  \n",
            " 0   No                                      414 non-null    int64  \n",
            " 1   X1 transaction date                     414 non-null    float64\n",
            " 2   X2 house age                            414 non-null    float64\n",
            " 3   X3 distance to the nearest MRT station  414 non-null    float64\n",
            " 4   X4 number of convenience stores         414 non-null    int64  \n",
            " 5   X5 latitude                             414 non-null    float64\n",
            " 6   X6 longitude                            414 non-null    float64\n",
            " 7   Y house price of unit area              414 non-null    float64\n",
            "dtypes: float64(6), int64(2)\n",
            "memory usage: 26.0 KB\n"
          ],
          "name": "stdout"
        }
      ]
    },
    {
      "cell_type": "markdown",
      "metadata": {
        "id": "_mrz7KwZSN0s"
      },
      "source": [
        "Printing the shape of the dataset and the last five rows of it."
      ]
    },
    {
      "cell_type": "code",
      "metadata": {
        "colab": {
          "base_uri": "https://localhost:8080/",
          "height": 230
        },
        "id": "XrpAdqiT84YQ",
        "outputId": "d1e49031-4434-4f26-b22c-ddd6eb85fbc7"
      },
      "source": [
        "print(\"The shape of the dataset:\", df.shape, end=\"\\n\\n\")\n",
        "\n",
        "df.tail(5)"
      ],
      "execution_count": 5,
      "outputs": [
        {
          "output_type": "stream",
          "text": [
            "The shape of the dataset: (414, 8)\n",
            "\n"
          ],
          "name": "stdout"
        },
        {
          "output_type": "execute_result",
          "data": {
            "text/html": [
              "<div>\n",
              "<style scoped>\n",
              "    .dataframe tbody tr th:only-of-type {\n",
              "        vertical-align: middle;\n",
              "    }\n",
              "\n",
              "    .dataframe tbody tr th {\n",
              "        vertical-align: top;\n",
              "    }\n",
              "\n",
              "    .dataframe thead th {\n",
              "        text-align: right;\n",
              "    }\n",
              "</style>\n",
              "<table border=\"1\" class=\"dataframe\">\n",
              "  <thead>\n",
              "    <tr style=\"text-align: right;\">\n",
              "      <th></th>\n",
              "      <th>No</th>\n",
              "      <th>X1 transaction date</th>\n",
              "      <th>X2 house age</th>\n",
              "      <th>X3 distance to the nearest MRT station</th>\n",
              "      <th>X4 number of convenience stores</th>\n",
              "      <th>X5 latitude</th>\n",
              "      <th>X6 longitude</th>\n",
              "      <th>Y house price of unit area</th>\n",
              "    </tr>\n",
              "  </thead>\n",
              "  <tbody>\n",
              "    <tr>\n",
              "      <th>409</th>\n",
              "      <td>410</td>\n",
              "      <td>2013.000</td>\n",
              "      <td>13.7</td>\n",
              "      <td>4082.01500</td>\n",
              "      <td>0</td>\n",
              "      <td>24.94155</td>\n",
              "      <td>121.50381</td>\n",
              "      <td>15.4</td>\n",
              "    </tr>\n",
              "    <tr>\n",
              "      <th>410</th>\n",
              "      <td>411</td>\n",
              "      <td>2012.667</td>\n",
              "      <td>5.6</td>\n",
              "      <td>90.45606</td>\n",
              "      <td>9</td>\n",
              "      <td>24.97433</td>\n",
              "      <td>121.54310</td>\n",
              "      <td>50.0</td>\n",
              "    </tr>\n",
              "    <tr>\n",
              "      <th>411</th>\n",
              "      <td>412</td>\n",
              "      <td>2013.250</td>\n",
              "      <td>18.8</td>\n",
              "      <td>390.96960</td>\n",
              "      <td>7</td>\n",
              "      <td>24.97923</td>\n",
              "      <td>121.53986</td>\n",
              "      <td>40.6</td>\n",
              "    </tr>\n",
              "    <tr>\n",
              "      <th>412</th>\n",
              "      <td>413</td>\n",
              "      <td>2013.000</td>\n",
              "      <td>8.1</td>\n",
              "      <td>104.81010</td>\n",
              "      <td>5</td>\n",
              "      <td>24.96674</td>\n",
              "      <td>121.54067</td>\n",
              "      <td>52.5</td>\n",
              "    </tr>\n",
              "    <tr>\n",
              "      <th>413</th>\n",
              "      <td>414</td>\n",
              "      <td>2013.500</td>\n",
              "      <td>6.5</td>\n",
              "      <td>90.45606</td>\n",
              "      <td>9</td>\n",
              "      <td>24.97433</td>\n",
              "      <td>121.54310</td>\n",
              "      <td>63.9</td>\n",
              "    </tr>\n",
              "  </tbody>\n",
              "</table>\n",
              "</div>"
            ],
            "text/plain": [
              "      No  X1 transaction date  ...  X6 longitude  Y house price of unit area\n",
              "409  410             2013.000  ...     121.50381                        15.4\n",
              "410  411             2012.667  ...     121.54310                        50.0\n",
              "411  412             2013.250  ...     121.53986                        40.6\n",
              "412  413             2013.000  ...     121.54067                        52.5\n",
              "413  414             2013.500  ...     121.54310                        63.9\n",
              "\n",
              "[5 rows x 8 columns]"
            ]
          },
          "metadata": {
            "tags": []
          },
          "execution_count": 5
        }
      ]
    },
    {
      "cell_type": "markdown",
      "metadata": {
        "id": "h10pFnj4SZ9U"
      },
      "source": [
        "Dropping an unnecessary column, namely `No` column."
      ]
    },
    {
      "cell_type": "code",
      "metadata": {
        "id": "_61PbmCm5lDC"
      },
      "source": [
        "df.drop(\"No\", axis=1, inplace=True)"
      ],
      "execution_count": 6,
      "outputs": []
    },
    {
      "cell_type": "markdown",
      "metadata": {
        "id": "azWP-THPTi8C"
      },
      "source": [
        "Checking for missing values."
      ]
    },
    {
      "cell_type": "code",
      "metadata": {
        "colab": {
          "base_uri": "https://localhost:8080/",
          "height": 254
        },
        "id": "WiM0tyZHThHz",
        "outputId": "ef6b7c92-2145-41b8-b19f-c4d73878c648"
      },
      "source": [
        "df.isna().sum().sort_values(ascending=False).to_frame(name=\"Missing Values %\") / df.shape[0] * 100"
      ],
      "execution_count": 7,
      "outputs": [
        {
          "output_type": "execute_result",
          "data": {
            "text/html": [
              "<div>\n",
              "<style scoped>\n",
              "    .dataframe tbody tr th:only-of-type {\n",
              "        vertical-align: middle;\n",
              "    }\n",
              "\n",
              "    .dataframe tbody tr th {\n",
              "        vertical-align: top;\n",
              "    }\n",
              "\n",
              "    .dataframe thead th {\n",
              "        text-align: right;\n",
              "    }\n",
              "</style>\n",
              "<table border=\"1\" class=\"dataframe\">\n",
              "  <thead>\n",
              "    <tr style=\"text-align: right;\">\n",
              "      <th></th>\n",
              "      <th>Missing Values %</th>\n",
              "    </tr>\n",
              "  </thead>\n",
              "  <tbody>\n",
              "    <tr>\n",
              "      <th>Y house price of unit area</th>\n",
              "      <td>0.0</td>\n",
              "    </tr>\n",
              "    <tr>\n",
              "      <th>X6 longitude</th>\n",
              "      <td>0.0</td>\n",
              "    </tr>\n",
              "    <tr>\n",
              "      <th>X5 latitude</th>\n",
              "      <td>0.0</td>\n",
              "    </tr>\n",
              "    <tr>\n",
              "      <th>X4 number of convenience stores</th>\n",
              "      <td>0.0</td>\n",
              "    </tr>\n",
              "    <tr>\n",
              "      <th>X3 distance to the nearest MRT station</th>\n",
              "      <td>0.0</td>\n",
              "    </tr>\n",
              "    <tr>\n",
              "      <th>X2 house age</th>\n",
              "      <td>0.0</td>\n",
              "    </tr>\n",
              "    <tr>\n",
              "      <th>X1 transaction date</th>\n",
              "      <td>0.0</td>\n",
              "    </tr>\n",
              "  </tbody>\n",
              "</table>\n",
              "</div>"
            ],
            "text/plain": [
              "                                        Missing Values %\n",
              "Y house price of unit area                           0.0\n",
              "X6 longitude                                         0.0\n",
              "X5 latitude                                          0.0\n",
              "X4 number of convenience stores                      0.0\n",
              "X3 distance to the nearest MRT station               0.0\n",
              "X2 house age                                         0.0\n",
              "X1 transaction date                                  0.0"
            ]
          },
          "metadata": {
            "tags": []
          },
          "execution_count": 7
        }
      ]
    },
    {
      "cell_type": "markdown",
      "metadata": {
        "id": "mrw-DchST9Eu"
      },
      "source": [
        "No missing values, so that's good."
      ]
    },
    {
      "cell_type": "markdown",
      "metadata": {
        "id": "cVvHR2nQSoib"
      },
      "source": [
        "Defining the predictor features as X and label as y."
      ]
    },
    {
      "cell_type": "code",
      "metadata": {
        "id": "o8FDicpnSoAn"
      },
      "source": [
        "y = df['Y house price of unit area']\n",
        "X = df.drop('Y house price of unit area', axis=1)"
      ],
      "execution_count": 8,
      "outputs": []
    },
    {
      "cell_type": "markdown",
      "metadata": {
        "id": "dAOKqqnqSx9e"
      },
      "source": [
        "Spliting the dataset to %70 train, %15 validation and %15 test sets."
      ]
    },
    {
      "cell_type": "code",
      "metadata": {
        "id": "NlDAxUZt-AKV"
      },
      "source": [
        "from sklearn.model_selection import train_test_split\n",
        "X_train, X_val_and_test, y_train, y_val_and_test = train_test_split(X, y, test_size=0.3, random_state=42)\n",
        "X_val, X_test, y_val, y_test = train_test_split(X_val_and_test, y_val_and_test, test_size=0.5, random_state=42)"
      ],
      "execution_count": 9,
      "outputs": []
    },
    {
      "cell_type": "markdown",
      "metadata": {
        "id": "qJdpUem_AqPu"
      },
      "source": [
        "# (b)"
      ]
    },
    {
      "cell_type": "markdown",
      "metadata": {
        "id": "_2DMZ1StUeiT"
      },
      "source": [
        "Importing the required ML models & metrics."
      ]
    },
    {
      "cell_type": "code",
      "metadata": {
        "id": "VTh-2wvXBVYY"
      },
      "source": [
        "from sklearn.linear_model import LinearRegression\n",
        "from sklearn.metrics import mean_squared_error\n",
        "from sklearn.preprocessing import PolynomialFeatures"
      ],
      "execution_count": 10,
      "outputs": []
    },
    {
      "cell_type": "markdown",
      "metadata": {
        "id": "E1DYkxbjUvSe"
      },
      "source": [
        "Getting the MSE scores for train and validation sets with the degree of the polynomial,&nbsp; $p=i$ $for$ $i=1,2,3,4,5$."
      ]
    },
    {
      "cell_type": "code",
      "metadata": {
        "id": "BlNrJfMJFRTA"
      },
      "source": [
        "pVals = [1, 2, 3, 4, 5]\n",
        "\n",
        "train_mse_list = []\n",
        "val_mse_list = []\n",
        "\n",
        "for p in pVals:\n",
        "\n",
        "  poly_reg = PolynomialFeatures(degree=p)\n",
        "  X_poly_train = poly_reg.fit_transform(X_train)\n",
        "\n",
        "  lin_reg = LinearRegression()\n",
        "  lin_reg.fit(X_poly_train, y_train)\n",
        "\n",
        "  y_pred_train = lin_reg.predict(X_poly_train)\n",
        "\n",
        "  train_mse = mean_squared_error(y_train, y_pred_train)\n",
        "  train_mse_list.append(train_mse)\n",
        "\n",
        "  X_poly_val = poly_reg.transform(X_val)\n",
        "  y_pred_val = lin_reg.predict(X_poly_val)\n",
        "\n",
        "  val_mse = mean_squared_error(y_val, y_pred_val)\n",
        "  val_mse_list.append(val_mse)"
      ],
      "execution_count": 11,
      "outputs": []
    },
    {
      "cell_type": "markdown",
      "metadata": {
        "id": "WW1bsw4bVwZ8"
      },
      "source": [
        "Plotting the MSE of the train and validation sets by $p$. "
      ]
    },
    {
      "cell_type": "code",
      "metadata": {
        "colab": {
          "base_uri": "https://localhost:8080/",
          "height": 458
        },
        "id": "1Jwk3uQtJVMB",
        "outputId": "74ae6064-c69d-4fd4-c9b0-3b18ef7d1ffa"
      },
      "source": [
        "fig, ax = plt.subplots(figsize = (12, 7))\n",
        "\n",
        "ax.set_title(\"Mean Squared Error by p = degree\")\n",
        "ax.set_xticklabels(pVals)\n",
        "ax.set_xticks(np.arange(len(pVals)))\n",
        "ax.set_xlabel(\"p = degree\")\n",
        "ax.set_ylabel(\"Mean Squared Error\")\n",
        "\n",
        "ax.plot(train_mse_list, label=\"Training\", color=\"orangered\", marker=\"s\", ls=\"-\", linewidth=2)\n",
        "ax.plot(val_mse_list, label=\"Validation\", color=\"royalblue\", marker=\"s\", ls=\"-\", linewidth=2)\n",
        "\n",
        "ax.legend(loc=\"upper left\");"
      ],
      "execution_count": 12,
      "outputs": [
        {
          "output_type": "display_data",
          "data": {
            "image/png": "[encoded data removed]",
            "text/plain": [
              "<Figure size 864x504 with 1 Axes>"
            ]
          },
          "metadata": {
            "tags": [],
            "needs_background": "light"
          }
        }
      ]
    },
    {
      "cell_type": "code",
      "metadata": {
        "colab": {
          "base_uri": "https://localhost:8080/"
        },
        "id": "69VugmHcQAI3",
        "outputId": "726bbba9-ff8a-44b9-d9d4-6929205afe97"
      },
      "source": [
        "pVals[np.argmin(val_mse_list)]"
      ],
      "execution_count": 13,
      "outputs": [
        {
          "output_type": "execute_result",
          "data": {
            "text/plain": [
              "3"
            ]
          },
          "metadata": {
            "tags": []
          },
          "execution_count": 13
        }
      ]
    },
    {
      "cell_type": "markdown",
      "metadata": {
        "id": "Rr7DO2lRWEGL"
      },
      "source": [
        "The optimal value of $p$ is $3$ since $p = 3$ gives the lowest MSE on the validation set, and with $p > 3$ the model starts to (albeit slowly) overfit."
      ]
    },
    {
      "cell_type": "markdown",
      "metadata": {
        "id": "ST_TE-MhZhid"
      },
      "source": [
        "# (c)"
      ]
    },
    {
      "cell_type": "markdown",
      "metadata": {
        "id": "IP2ZxlPWhmuM"
      },
      "source": [
        "Printing the covariance matrix of the dataset. (Excluding the test set, I think it leads to data leak if I include the whole dataset but I am not sure.)"
      ]
    },
    {
      "cell_type": "code",
      "metadata": {
        "colab": {
          "base_uri": "https://localhost:8080/",
          "height": 288
        },
        "id": "1ja19OcJMAIm",
        "outputId": "9cbc069d-95d0-4549-8879-d1f20bd78e2c"
      },
      "source": [
        "train = pd.concat([X_train, y_train], axis=1)\n",
        "val = pd.concat([X_val, y_val], axis=1)\n",
        "cov_matrix = pd.concat([train, val], axis=0).cov()\n",
        "cov_matrix"
      ],
      "execution_count": 14,
      "outputs": [
        {
          "output_type": "execute_result",
          "data": {
            "text/html": [
              "<div>\n",
              "<style scoped>\n",
              "    .dataframe tbody tr th:only-of-type {\n",
              "        vertical-align: middle;\n",
              "    }\n",
              "\n",
              "    .dataframe tbody tr th {\n",
              "        vertical-align: top;\n",
              "    }\n",
              "\n",
              "    .dataframe thead th {\n",
              "        text-align: right;\n",
              "    }\n",
              "</style>\n",
              "<table border=\"1\" class=\"dataframe\">\n",
              "  <thead>\n",
              "    <tr style=\"text-align: right;\">\n",
              "      <th></th>\n",
              "      <th>X1 transaction date</th>\n",
              "      <th>X2 house age</th>\n",
              "      <th>X3 distance to the nearest MRT station</th>\n",
              "      <th>X4 number of convenience stores</th>\n",
              "      <th>X5 latitude</th>\n",
              "      <th>X6 longitude</th>\n",
              "      <th>Y house price of unit area</th>\n",
              "    </tr>\n",
              "  </thead>\n",
              "  <tbody>\n",
              "    <tr>\n",
              "      <th>X1 transaction date</th>\n",
              "      <td>0.079071</td>\n",
              "      <td>0.036114</td>\n",
              "      <td>2.142303e+01</td>\n",
              "      <td>-0.004480</td>\n",
              "      <td>0.000116</td>\n",
              "      <td>-0.000131</td>\n",
              "      <td>0.347696</td>\n",
              "    </tr>\n",
              "    <tr>\n",
              "      <th>X2 house age</th>\n",
              "      <td>0.036114</td>\n",
              "      <td>131.809631</td>\n",
              "      <td>7.207629e+02</td>\n",
              "      <td>0.853795</td>\n",
              "      <td>0.006539</td>\n",
              "      <td>-0.012972</td>\n",
              "      <td>-34.850849</td>\n",
              "    </tr>\n",
              "    <tr>\n",
              "      <th>X3 distance to the nearest MRT station</th>\n",
              "      <td>21.423034</td>\n",
              "      <td>720.762873</td>\n",
              "      <td>1.551277e+06</td>\n",
              "      <td>-2202.374568</td>\n",
              "      <td>-8.949338</td>\n",
              "      <td>-15.420403</td>\n",
              "      <td>-11302.628666</td>\n",
              "    </tr>\n",
              "    <tr>\n",
              "      <th>X4 number of convenience stores</th>\n",
              "      <td>-0.004480</td>\n",
              "      <td>0.853795</td>\n",
              "      <td>-2.202375e+03</td>\n",
              "      <td>8.668246</td>\n",
              "      <td>0.015911</td>\n",
              "      <td>0.020348</td>\n",
              "      <td>22.781142</td>\n",
              "    </tr>\n",
              "    <tr>\n",
              "      <th>X5 latitude</th>\n",
              "      <td>0.000116</td>\n",
              "      <td>0.006539</td>\n",
              "      <td>-8.949338e+00</td>\n",
              "      <td>0.015911</td>\n",
              "      <td>0.000157</td>\n",
              "      <td>0.000079</td>\n",
              "      <td>0.090796</td>\n",
              "    </tr>\n",
              "    <tr>\n",
              "      <th>X6 longitude</th>\n",
              "      <td>-0.000131</td>\n",
              "      <td>-0.012972</td>\n",
              "      <td>-1.542040e+01</td>\n",
              "      <td>0.020348</td>\n",
              "      <td>0.000079</td>\n",
              "      <td>0.000228</td>\n",
              "      <td>0.107671</td>\n",
              "    </tr>\n",
              "    <tr>\n",
              "      <th>Y house price of unit area</th>\n",
              "      <td>0.347696</td>\n",
              "      <td>-34.850849</td>\n",
              "      <td>-1.130263e+04</td>\n",
              "      <td>22.781142</td>\n",
              "      <td>0.090796</td>\n",
              "      <td>0.107671</td>\n",
              "      <td>188.406879</td>\n",
              "    </tr>\n",
              "  </tbody>\n",
              "</table>\n",
              "</div>"
            ],
            "text/plain": [
              "                                        X1 transaction date  ...  Y house price of unit area\n",
              "X1 transaction date                                0.079071  ...                    0.347696\n",
              "X2 house age                                       0.036114  ...                  -34.850849\n",
              "X3 distance to the nearest MRT station            21.423034  ...               -11302.628666\n",
              "X4 number of convenience stores                   -0.004480  ...                   22.781142\n",
              "X5 latitude                                        0.000116  ...                    0.090796\n",
              "X6 longitude                                      -0.000131  ...                    0.107671\n",
              "Y house price of unit area                         0.347696  ...                  188.406879\n",
              "\n",
              "[7 rows x 7 columns]"
            ]
          },
          "metadata": {
            "tags": []
          },
          "execution_count": 14
        }
      ]
    },
    {
      "cell_type": "markdown",
      "metadata": {
        "id": "2uSayufchvv4"
      },
      "source": [
        "Focusing on $Cov(X_i, Y)$ to see if there are any irrelevant features."
      ]
    },
    {
      "cell_type": "code",
      "metadata": {
        "colab": {
          "base_uri": "https://localhost:8080/",
          "height": 254
        },
        "id": "fONOZQHYOAmB",
        "outputId": "7b137042-7b3e-4804-d8cd-4aeba0472a3b"
      },
      "source": [
        "cov_matrix[\"Y house price of unit area\"].sort_values(ascending=False).to_frame()"
      ],
      "execution_count": 15,
      "outputs": [
        {
          "output_type": "execute_result",
          "data": {
            "text/html": [
              "<div>\n",
              "<style scoped>\n",
              "    .dataframe tbody tr th:only-of-type {\n",
              "        vertical-align: middle;\n",
              "    }\n",
              "\n",
              "    .dataframe tbody tr th {\n",
              "        vertical-align: top;\n",
              "    }\n",
              "\n",
              "    .dataframe thead th {\n",
              "        text-align: right;\n",
              "    }\n",
              "</style>\n",
              "<table border=\"1\" class=\"dataframe\">\n",
              "  <thead>\n",
              "    <tr style=\"text-align: right;\">\n",
              "      <th></th>\n",
              "      <th>Y house price of unit area</th>\n",
              "    </tr>\n",
              "  </thead>\n",
              "  <tbody>\n",
              "    <tr>\n",
              "      <th>Y house price of unit area</th>\n",
              "      <td>188.406879</td>\n",
              "    </tr>\n",
              "    <tr>\n",
              "      <th>X4 number of convenience stores</th>\n",
              "      <td>22.781142</td>\n",
              "    </tr>\n",
              "    <tr>\n",
              "      <th>X1 transaction date</th>\n",
              "      <td>0.347696</td>\n",
              "    </tr>\n",
              "    <tr>\n",
              "      <th>X6 longitude</th>\n",
              "      <td>0.107671</td>\n",
              "    </tr>\n",
              "    <tr>\n",
              "      <th>X5 latitude</th>\n",
              "      <td>0.090796</td>\n",
              "    </tr>\n",
              "    <tr>\n",
              "      <th>X2 house age</th>\n",
              "      <td>-34.850849</td>\n",
              "    </tr>\n",
              "    <tr>\n",
              "      <th>X3 distance to the nearest MRT station</th>\n",
              "      <td>-11302.628666</td>\n",
              "    </tr>\n",
              "  </tbody>\n",
              "</table>\n",
              "</div>"
            ],
            "text/plain": [
              "                                        Y house price of unit area\n",
              "Y house price of unit area                              188.406879\n",
              "X4 number of convenience stores                          22.781142\n",
              "X1 transaction date                                       0.347696\n",
              "X6 longitude                                              0.107671\n",
              "X5 latitude                                               0.090796\n",
              "X2 house age                                            -34.850849\n",
              "X3 distance to the nearest MRT station               -11302.628666"
            ]
          },
          "metadata": {
            "tags": []
          },
          "execution_count": 15
        }
      ]
    },
    {
      "cell_type": "markdown",
      "metadata": {
        "id": "3VmDidJnjejk"
      },
      "source": [
        "Features that have $Cov(X_i, Y)$ close to 0 are the features that are going to be dropped because they seem to be irrelevant features."
      ]
    },
    {
      "cell_type": "code",
      "metadata": {
        "id": "M9mlx3_KkX-a"
      },
      "source": [
        "# Features that are going to be dropped are sorted according to how close to 0 their covariance with label y\n",
        "featuresToBeDropped = [\"X5 latitude\", \"X6 longitude\", \"X1 transaction date\"]"
      ],
      "execution_count": 16,
      "outputs": []
    },
    {
      "cell_type": "markdown",
      "metadata": {
        "id": "aynVGj7GrW0s"
      },
      "source": [
        "Getting the MSE scores for train and validation sets with the degree of the polynomial,&nbsp; $d=i$ $for$ $i=0,1,2,3$ with $p$ set to $3$."
      ]
    },
    {
      "cell_type": "code",
      "metadata": {
        "colab": {
          "base_uri": "https://localhost:8080/"
        },
        "id": "IMF62tQESLOj",
        "outputId": "4fb0e479-e819-4325-c496-71e3aa4f9f88"
      },
      "source": [
        "dVals = [0, 1, 2, 3]\n",
        "\n",
        "train_mse_list_c = []\n",
        "val_mse_list_c = []\n",
        "\n",
        "for d in dVals:\n",
        "\n",
        "  print(f\"d: {d}\", end=\" \")\n",
        "\n",
        "  if d != 0:\n",
        "    print(f\"and dropped features: {featuresToBeDropped[0:d]}\")\n",
        "\n",
        "  else: \n",
        "    print(\"and no features are dropped\")\n",
        "  \n",
        "  poly_reg = PolynomialFeatures(degree=3)\n",
        "  X_poly_train = poly_reg.fit_transform(X_train.drop(featuresToBeDropped[0:d], axis=1))\n",
        "\n",
        "  lin_reg = LinearRegression()\n",
        "  lin_reg.fit(X_poly_train, y_train)\n",
        "\n",
        "  y_pred_train = lin_reg.predict(X_poly_train)\n",
        "\n",
        "  train_mse = mean_squared_error(y_train, y_pred_train)\n",
        "  train_mse_list_c.append(train_mse)\n",
        "\n",
        "  X_poly_val = poly_reg.transform(X_val.drop(featuresToBeDropped[0:d], axis=1))\n",
        "  y_pred_val = lin_reg.predict(X_poly_val)\n",
        "\n",
        "  val_mse = mean_squared_error(y_val, y_pred_val)\n",
        "  val_mse_list_c.append(val_mse)"
      ],
      "execution_count": 17,
      "outputs": [
        {
          "output_type": "stream",
          "text": [
            "d: 0 and no features are dropped\n",
            "d: 1 and dropped features: ['X5 latitude']\n",
            "d: 2 and dropped features: ['X5 latitude', 'X6 longitude']\n",
            "d: 3 and dropped features: ['X5 latitude', 'X6 longitude', 'X1 transaction date']\n"
          ],
          "name": "stdout"
        }
      ]
    },
    {
      "cell_type": "markdown",
      "metadata": {
        "id": "NR0gp9f6tm5J"
      },
      "source": [
        "Plotting the MSE of the train and validation sets by $d$."
      ]
    },
    {
      "cell_type": "code",
      "metadata": {
        "colab": {
          "base_uri": "https://localhost:8080/",
          "height": 458
        },
        "id": "dIoRzUX8lpde",
        "outputId": "62b21e64-2efd-44f9-da7d-ec4a9274bfce"
      },
      "source": [
        "fig, ax = plt.subplots(figsize = (12, 7))\n",
        "\n",
        "ax.set_title(\"Mean Squared Error by d\")\n",
        "ax.set_xticklabels(dVals)\n",
        "ax.set_xticks(np.arange(len(dVals)))\n",
        "ax.set_xlabel(\"d\")\n",
        "ax.set_ylabel(\"Mean Squared Error\")\n",
        "\n",
        "ax.plot(train_mse_list_c, label=\"Training\", color=\"orangered\", marker=\"s\", ls=\"-\", linewidth=2)\n",
        "ax.plot(val_mse_list_c, label=\"Validation\", color=\"royalblue\", marker=\"s\", ls=\"-\", linewidth=2)\n",
        "\n",
        "ax.legend(loc=\"upper left\");"
      ],
      "execution_count": 18,
      "outputs": [
        {
          "output_type": "display_data",
          "data": {
            "image/png": "[encoded data removed]",
            "text/plain": [
              "<Figure size 864x504 with 1 Axes>"
            ]
          },
          "metadata": {
            "tags": [],
            "needs_background": "light"
          }
        }
      ]
    },
    {
      "cell_type": "code",
      "metadata": {
        "colab": {
          "base_uri": "https://localhost:8080/"
        },
        "id": "ReBM6aiptsZl",
        "outputId": "d62ebbe1-c41a-4edd-81df-864e0342835d"
      },
      "source": [
        "dVals[np.argmin(val_mse_list_c)]"
      ],
      "execution_count": 19,
      "outputs": [
        {
          "output_type": "execute_result",
          "data": {
            "text/plain": [
              "1"
            ]
          },
          "metadata": {
            "tags": []
          },
          "execution_count": 19
        }
      ]
    },
    {
      "cell_type": "markdown",
      "metadata": {
        "id": "jQ8JaJmFueSc"
      },
      "source": [
        "The optimal value of $d$ is $1$ since $d = 1$ gives the lowest MSE on the validation set. The feature that was dropped by setting $d = 1$ is `X5 latitude`."
      ]
    },
    {
      "cell_type": "code",
      "metadata": {
        "colab": {
          "base_uri": "https://localhost:8080/"
        },
        "id": "LoNDuhyOynFS",
        "outputId": "de86d4e0-9b14-4a74-9a74-5ee016778411"
      },
      "source": [
        "print(f\"The lowest MSE on validation data is {min(val_mse_list_c):.2f}\")"
      ],
      "execution_count": 20,
      "outputs": [
        {
          "output_type": "stream",
          "text": [
            "The lowest MSE on validation data is 75.07\n"
          ],
          "name": "stdout"
        }
      ]
    },
    {
      "cell_type": "markdown",
      "metadata": {
        "id": "pNV93G2suzJ2"
      },
      "source": [
        "# Report"
      ]
    },
    {
      "cell_type": "markdown",
      "metadata": {
        "id": "KhWcXjsavprY"
      },
      "source": [
        "**Problem Definition:** \n",
        "\n",
        "In this homework, our task was to implement a Simple Regression and Polynomial Regression models and find the best hyperparameters to predict real estate prices using the `Real estate.csv` dataset from Kaggle.\n",
        "\n",
        "**For preprocessing:** \n",
        "\n",
        "Printed out the shape of the dataset, dropped the `No` column as it was an index column, irrelevant to the label we are trying to predict, and checked for missing values to be filled or instances to drop if they contained a lot of missing values. Since there were no missing values, no instances were dropped.\n",
        "Also checked for categorical attributes, but thankfully all attributes were numerical so there was no need for one-hot-encoding.\n",
        "\n",
        "**Train/val/test sets, size and how split:** \n",
        "\n",
        "Split the training data to 70% training, 15% validation, and 15% test. Used the validation data and the MSE obtained with validation data to determine the (arguably) best values for hyperparameters $p$ and $d$. \n",
        "\n",
        "$d$ was found by assuming that **if** $Cov(X_i,Y)$ ~ $0$, then the feature $X_i$ can be considered as an irrelevant feature.\n",
        "\n",
        "**Test results, best hyperparameters, classification accuracy scores:**\n",
        "\n",
        "We have obtained the best results with the Polynomial Regression model (`hyperparameters=(degree=3)`) with $p = 3$ and $d = 1$, giving MSE = $75.07$ on validation set.\n",
        "\n",
        "**Comments:**\n",
        "\n",
        "I was expecting $d=3$ to have the least MSE, as I would be dropping 3 irrelevant features, thus I was kinda surprised."
      ]
    }
  ]
}