{
  "nbformat": 4,
  "nbformat_minor": 0,
  "metadata": {
    "colab": {
      "name": "Doğukan_Yıldırım_ML202102_HW3.ipynb",
      "provenance": [],
      "collapsed_sections": []
    },
    "kernelspec": {
      "name": "python3",
      "display_name": "Python 3"
    },
    "language_info": {
      "name": "python"
    }
  },
  "cells": [
    {
      "cell_type": "markdown",
      "metadata": {
        "id": "MsPftUCDDurU"
      },
      "source": [
        "# CS 412 Machine Learning 2020 \n",
        "\n",
        "# Assignment 3\n",
        "\n",
        "100 pts\n",
        "\n",
        "## Goal \n",
        "\n",
        "The goal of this assignment \n",
        "\n",
        "*  Introduction to working with text data\n",
        "*  Gain experience with the Scikit-Learn library\n",
        "*  Gain experience with Naive Bayes and Logistic Regression\n",
        "\n",
        "## Dataset\n",
        "\n",
        "**20 Newsgroup Dataset** is a collection 18846 documents which are about 20 different topics.\n",
        "\n",
        "\n",
        "## Task\n",
        "Build naive bayes and logistic regression classifiers with the scikit-learn library function to **classify** the documents about their content topic.\n",
        "\n",
        "## Submission\n",
        "\n",
        "Follow the instructions at the end."
      ]
    },
    {
      "cell_type": "markdown",
      "metadata": {
        "id": "tNnWi0hUEE_P"
      },
      "source": [
        "# 1) Initialize\n",
        "\n",
        "First, make a copy of this notebook in your drive"
      ]
    },
    {
      "cell_type": "markdown",
      "metadata": {
        "id": "JritpHX7EKdr"
      },
      "source": [
        "# 2) Load Dataset\n",
        "\n",
        "The 20 Newsgroup Dataset exist on Scikit-Learn library."
      ]
    },
    {
      "cell_type": "code",
      "metadata": {
        "id": "me2JuqB9EN3U"
      },
      "source": [
        "from sklearn.datasets import fetch_20newsgroups"
      ],
      "execution_count": 1,
      "outputs": []
    },
    {
      "cell_type": "code",
      "metadata": {
        "id": "3zOI7YAhE2x3"
      },
      "source": [
        "train_batch = fetch_20newsgroups(subset='train')\n",
        "test_batch = fetch_20newsgroups(subset='test')"
      ],
      "execution_count": 2,
      "outputs": []
    },
    {
      "cell_type": "code",
      "metadata": {
        "colab": {
          "base_uri": "https://localhost:8080/"
        },
        "id": "nkSAOk1aKUzl",
        "outputId": "77799cbb-6a88-49c0-effb-52388ebf1745"
      },
      "source": [
        "# target groups you will be dealing with\n",
        "target_groups = train_batch.target_names\n",
        "target_groups"
      ],
      "execution_count": 3,
      "outputs": [
        {
          "output_type": "execute_result",
          "data": {
            "text/plain": [
              "['alt.atheism',\n",
              " 'comp.graphics',\n",
              " 'comp.os.ms-windows.misc',\n",
              " 'comp.sys.ibm.pc.hardware',\n",
              " 'comp.sys.mac.hardware',\n",
              " 'comp.windows.x',\n",
              " 'misc.forsale',\n",
              " 'rec.autos',\n",
              " 'rec.motorcycles',\n",
              " 'rec.sport.baseball',\n",
              " 'rec.sport.hockey',\n",
              " 'sci.crypt',\n",
              " 'sci.electronics',\n",
              " 'sci.med',\n",
              " 'sci.space',\n",
              " 'soc.religion.christian',\n",
              " 'talk.politics.guns',\n",
              " 'talk.politics.mideast',\n",
              " 'talk.politics.misc',\n",
              " 'talk.religion.misc']"
            ]
          },
          "metadata": {
            "tags": []
          },
          "execution_count": 3
        }
      ]
    },
    {
      "cell_type": "code",
      "metadata": {
        "id": "oEY5XoYmFVTr"
      },
      "source": [
        "# creating training and test sets\n",
        "train_x =  train_batch[\"data\"]\n",
        "train_y =  train_batch[\"target\"]\n",
        "test_x  =  test_batch[\"data\"]\n",
        "test_y  =  test_batch[\"target\"]"
      ],
      "execution_count": 4,
      "outputs": []
    },
    {
      "cell_type": "code",
      "metadata": {
        "colab": {
          "base_uri": "https://localhost:8080/"
        },
        "id": "3aiFqFY-Ftkc",
        "outputId": "e04457d8-3974-4325-fcc2-c2f6037ed97c"
      },
      "source": [
        "print(train_x[0])"
      ],
      "execution_count": 5,
      "outputs": [
        {
          "output_type": "stream",
          "text": [
            "From: lerxst@wam.umd.edu (where's my thing)\n",
            "Subject: WHAT car is this!?\n",
            "Nntp-Posting-Host: rac3.wam.umd.edu\n",
            "Organization: University of Maryland, College Park\n",
            "Lines: 15\n",
            "\n",
            " I was wondering if anyone out there could enlighten me on this car I saw\n",
            "the other day. It was a 2-door sports car, looked to be from the late 60s/\n",
            "early 70s. It was called a Bricklin. The doors were really small. In addition,\n",
            "the front bumper was separate from the rest of the body. This is \n",
            "all I know. If anyone can tellme a model name, engine specs, years\n",
            "of production, where this car is made, history, or whatever info you\n",
            "have on this funky looking car, please e-mail.\n",
            "\n",
            "Thanks,\n",
            "- IL\n",
            "   ---- brought to you by your neighborhood Lerxst ----\n",
            "\n",
            "\n",
            "\n",
            "\n",
            "\n"
          ],
          "name": "stdout"
        }
      ]
    },
    {
      "cell_type": "code",
      "metadata": {
        "colab": {
          "base_uri": "https://localhost:8080/"
        },
        "id": "Wa_vTE97NsSL",
        "outputId": "7fdd74cc-249c-4003-c0d7-72ff3175b5ae"
      },
      "source": [
        "print(target_groups[train_y[0]])"
      ],
      "execution_count": 6,
      "outputs": [
        {
          "output_type": "stream",
          "text": [
            "rec.autos\n"
          ],
          "name": "stdout"
        }
      ]
    },
    {
      "cell_type": "markdown",
      "metadata": {
        "id": "FV4AaTk8JSPg"
      },
      "source": [
        "# Preprocess"
      ]
    },
    {
      "cell_type": "code",
      "metadata": {
        "id": "AZdKd6oAJWrj"
      },
      "source": [
        "import re"
      ],
      "execution_count": 7,
      "outputs": []
    },
    {
      "cell_type": "code",
      "metadata": {
        "id": "aukUdxk3JXft"
      },
      "source": [
        "%%capture\n",
        "import nltk\n",
        "nltk.download(\"stopwords\")"
      ],
      "execution_count": 8,
      "outputs": []
    },
    {
      "cell_type": "code",
      "metadata": {
        "id": "c1oq7z0wJXdj"
      },
      "source": [
        "from nltk.corpus import stopwords\n",
        "stop_words = stopwords.words(\"english\")"
      ],
      "execution_count": 9,
      "outputs": []
    },
    {
      "cell_type": "code",
      "metadata": {
        "id": "ldItHamFJwcO"
      },
      "source": [
        "from nltk.stem.snowball import SnowballStemmer\n",
        "stemmer = SnowballStemmer(\"english\")"
      ],
      "execution_count": 10,
      "outputs": []
    },
    {
      "cell_type": "code",
      "metadata": {
        "id": "9YL6H0AQHwZl"
      },
      "source": [
        "# You will use this function to preprocess your data. If you would like to add another preprocessing step in the function, please add it and mention about it in your report.\n",
        "def preprocess(text):\n",
        "  text = re.sub(\"[\\w\\d._]+@[^\\s]+|[^\\s]+\\.[^\\s]+|[^\\s]+-[^\\s]+|\\d+|[^\\w\\s]\",\"\",text.lower().strip())\n",
        "  text = ' '.join([stemmer.stem(word) for word in re.findall(\"\\w+\",text) if word not in stop_words])\n",
        "  return text"
      ],
      "execution_count": 11,
      "outputs": []
    },
    {
      "cell_type": "code",
      "metadata": {
        "id": "CL-jPAXPJffh"
      },
      "source": [
        "# Apply <preprocess> function on the training and test set\n",
        "preprocessed_train_x = [preprocess(sample) for sample in train_x]\n",
        "preprocessed_test_x = [preprocess(sample) for sample in test_x]"
      ],
      "execution_count": 12,
      "outputs": []
    },
    {
      "cell_type": "markdown",
      "metadata": {
        "id": "jOFFQwnUOCCY"
      },
      "source": [
        "# Models"
      ]
    },
    {
      "cell_type": "code",
      "metadata": {
        "id": "9yoKTkRCOFQh"
      },
      "source": [
        "from sklearn.naive_bayes import MultinomialNB\n",
        "from sklearn.linear_model import LogisticRegression\n",
        "\n",
        "from sklearn.feature_extraction.text import CountVectorizer\n",
        "\n",
        "from sklearn.pipeline import Pipeline\n",
        "from sklearn.model_selection import GridSearchCV\n",
        "\n",
        "from sklearn.metrics import accuracy_score\n",
        "\n",
        "import numpy as np\n",
        "import pandas as pd"
      ],
      "execution_count": 13,
      "outputs": []
    },
    {
      "cell_type": "markdown",
      "metadata": {
        "id": "gXJGT2HpNY8_"
      },
      "source": [
        "## Tune Naive Bayes"
      ]
    },
    {
      "cell_type": "code",
      "metadata": {
        "id": "QA5QFz37BoBc"
      },
      "source": [
        "# Create a CountVectorizer for NB with:\n",
        "#     min_df = 50\n",
        "#     max_df = 3000\n",
        "#     stop_words = stop_words\n",
        "vectorizer = CountVectorizer(min_df=50, max_df=3000, stop_words=stop_words)"
      ],
      "execution_count": 14,
      "outputs": []
    },
    {
      "cell_type": "code",
      "metadata": {
        "id": "fS5WNNEhBxiZ"
      },
      "source": [
        "# Vectorize your training and test set\n",
        "NB_train_x = vectorizer.fit_transform(preprocessed_train_x)\n",
        "NB_test_x = vectorizer.transform(preprocessed_test_x)"
      ],
      "execution_count": 15,
      "outputs": []
    },
    {
      "cell_type": "code",
      "metadata": {
        "id": "tVdPwcrsNymU",
        "colab": {
          "base_uri": "https://localhost:8080/"
        },
        "outputId": "09d9374f-dabe-4a74-bb69-bef990d424cb"
      },
      "source": [
        "#https://scikit-learn.org/stable/modules/generated/sklearn.naive_bayes.MultinomialNB.html\n",
        "\n",
        "#Initiate the NB model with required components.\n",
        "NB_model = MultinomialNB()\n",
        "\n",
        "#Set the hyperparameter space that will be scanned:\n",
        "#   alpha = (0.1,0.5,1.0,5.0)\n",
        "hyperparameters = dict(\n",
        "    alpha = (0.1,0.5,1.0,5.0)\n",
        ")\n",
        "\n",
        "#Let the GridSearchCV scan the hyperparameter and find the best hyperparameter set that will maximize the scoring option.\n",
        "#   cv = 3\n",
        "#   scoring = \"accuracy\"\n",
        "NB_grid_search = GridSearchCV(NB_model,hyperparameters,cv=3,scoring=\"accuracy\")\n",
        "NB_grid_search.fit(NB_train_x,train_y)"
      ],
      "execution_count": 16,
      "outputs": [
        {
          "output_type": "execute_result",
          "data": {
            "text/plain": [
              "GridSearchCV(cv=3, error_score=nan,\n",
              "             estimator=MultinomialNB(alpha=1.0, class_prior=None,\n",
              "                                     fit_prior=True),\n",
              "             iid='deprecated', n_jobs=None,\n",
              "             param_grid={'alpha': (0.1, 0.5, 1.0, 5.0)},\n",
              "             pre_dispatch='2*n_jobs', refit=True, return_train_score=False,\n",
              "             scoring='accuracy', verbose=0)"
            ]
          },
          "metadata": {
            "tags": []
          },
          "execution_count": 16
        }
      ]
    },
    {
      "cell_type": "code",
      "metadata": {
        "id": "E4xyqjD1N5Zr",
        "colab": {
          "base_uri": "https://localhost:8080/"
        },
        "outputId": "d13063c1-bf63-4bd4-bb47-33760e4b1773"
      },
      "source": [
        "# show the best score\n",
        "NB_grid_search.best_score_"
      ],
      "execution_count": 17,
      "outputs": [
        {
          "output_type": "execute_result",
          "data": {
            "text/plain": [
              "0.8212835269890522"
            ]
          },
          "metadata": {
            "tags": []
          },
          "execution_count": 17
        }
      ]
    },
    {
      "cell_type": "code",
      "metadata": {
        "id": "KD888YxgO9d0",
        "colab": {
          "base_uri": "https://localhost:8080/"
        },
        "outputId": "126002f1-5db1-4497-80fa-1207d0821c43"
      },
      "source": [
        "# show the best parameter\n",
        "NB_grid_search.best_params_"
      ],
      "execution_count": 18,
      "outputs": [
        {
          "output_type": "execute_result",
          "data": {
            "text/plain": [
              "{'alpha': 0.5}"
            ]
          },
          "metadata": {
            "tags": []
          },
          "execution_count": 18
        }
      ]
    },
    {
      "cell_type": "markdown",
      "metadata": {
        "id": "UJu_rA56W5jn"
      },
      "source": [
        "### Evaluate The Best Model for NB"
      ]
    },
    {
      "cell_type": "code",
      "metadata": {
        "id": "DTTHdeA4O_kd"
      },
      "source": [
        "#Create your NB model with the best parameter set.\n",
        "best_NB_model = MultinomialNB(alpha=0.5)\n",
        "#Fit your model on training set.\n",
        "best_NB_model = best_NB_model.fit(NB_train_x, train_y)"
      ],
      "execution_count": 19,
      "outputs": []
    },
    {
      "cell_type": "code",
      "metadata": {
        "id": "Unaw09TcXDGO"
      },
      "source": [
        "# Make predictions on test set\n",
        "NB_predictions = best_NB_model.predict(NB_test_x)"
      ],
      "execution_count": 20,
      "outputs": []
    },
    {
      "cell_type": "code",
      "metadata": {
        "id": "QIkAMwHKXEym",
        "colab": {
          "base_uri": "https://localhost:8080/"
        },
        "outputId": "b1f21000-5c31-4e54-923b-c6bc73b51cb4"
      },
      "source": [
        "# Show your accuracy on test set\n",
        "accuracy_score(test_y, NB_predictions)"
      ],
      "execution_count": 21,
      "outputs": [
        {
          "output_type": "execute_result",
          "data": {
            "text/plain": [
              "0.7555762081784386"
            ]
          },
          "metadata": {
            "tags": []
          },
          "execution_count": 21
        }
      ]
    },
    {
      "cell_type": "markdown",
      "metadata": {
        "id": "oJX62dPOXPdH"
      },
      "source": [
        "## Tune Logistic Regresion"
      ]
    },
    {
      "cell_type": "code",
      "metadata": {
        "id": "B1JQhjs3Cf2k"
      },
      "source": [
        "# Create a CountVectorizer for LR with:\n",
        "#     min_df = 50\n",
        "#     max_df = 3000\n",
        "#     stop_words = stop_words\n",
        "vectorizer = CountVectorizer(min_df=50, max_df=3000, stop_words=stop_words)"
      ],
      "execution_count": 22,
      "outputs": []
    },
    {
      "cell_type": "code",
      "metadata": {
        "id": "XTa3qQPCC0ts"
      },
      "source": [
        "# Vectorizer your training and test set\n",
        "LR_train_x = vectorizer.fit_transform(preprocessed_train_x)\n",
        "LR_test_x = vectorizer.transform(preprocessed_test_x)"
      ],
      "execution_count": 23,
      "outputs": []
    },
    {
      "cell_type": "code",
      "metadata": {
        "id": "Wv2aolaqXF5c",
        "colab": {
          "base_uri": "https://localhost:8080/"
        },
        "outputId": "326d0b1b-48e3-4377-b038-3bd084735e2c"
      },
      "source": [
        "#https://scikit-learn.org/stable/modules/generated/sklearn.linear_model.LogisticRegression.html\n",
        "\n",
        "#Initiate the LR model:\n",
        "#   max_iter=2000\n",
        "LR_model = LogisticRegression(max_iter=2000)\n",
        "\n",
        "# Set the hyperparameter space that will be scanned:\n",
        "#     C = (0.001,0.01,0.1,1)     \n",
        "hyperparameters = dict(\n",
        "    C = (0.001,0.01,0.1,1)\n",
        ")\n",
        "\n",
        "#Let the GridSearchCV scan the hyperparameter and find the best hyperparameter set that will maximize the scoring option.\n",
        "#   cv = 3\n",
        "#   scoring = \"accuracy\"\n",
        "LR_grid_search = GridSearchCV(LR_model,hyperparameters,cv=3,scoring=\"accuracy\")\n",
        "LR_grid_search.fit(LR_train_x,train_y)"
      ],
      "execution_count": 24,
      "outputs": [
        {
          "output_type": "execute_result",
          "data": {
            "text/plain": [
              "GridSearchCV(cv=3, error_score=nan,\n",
              "             estimator=LogisticRegression(C=1.0, class_weight=None, dual=False,\n",
              "                                          fit_intercept=True,\n",
              "                                          intercept_scaling=1, l1_ratio=None,\n",
              "                                          max_iter=2000, multi_class='auto',\n",
              "                                          n_jobs=None, penalty='l2',\n",
              "                                          random_state=None, solver='lbfgs',\n",
              "                                          tol=0.0001, verbose=0,\n",
              "                                          warm_start=False),\n",
              "             iid='deprecated', n_jobs=None,\n",
              "             param_grid={'C': (0.001, 0.01, 0.1, 1)}, pre_dispatch='2*n_jobs',\n",
              "             refit=True, return_train_score=False, scoring='accuracy',\n",
              "             verbose=0)"
            ]
          },
          "metadata": {
            "tags": []
          },
          "execution_count": 24
        }
      ]
    },
    {
      "cell_type": "code",
      "metadata": {
        "id": "rhToPngFlsRX",
        "colab": {
          "base_uri": "https://localhost:8080/"
        },
        "outputId": "8e428e6f-3ec4-4e1a-b57a-09f1a62bc938"
      },
      "source": [
        "# show the best score\n",
        "LR_grid_search.best_score_"
      ],
      "execution_count": 25,
      "outputs": [
        {
          "output_type": "execute_result",
          "data": {
            "text/plain": [
              "0.8338344038554356"
            ]
          },
          "metadata": {
            "tags": []
          },
          "execution_count": 25
        }
      ]
    },
    {
      "cell_type": "code",
      "metadata": {
        "id": "oKQh_pyJl7cy",
        "colab": {
          "base_uri": "https://localhost:8080/"
        },
        "outputId": "34e7394d-609c-4c6b-83ad-0ed7b61ab665"
      },
      "source": [
        "# show the best parameter\n",
        "LR_grid_search.best_params_"
      ],
      "execution_count": 26,
      "outputs": [
        {
          "output_type": "execute_result",
          "data": {
            "text/plain": [
              "{'C': 0.1}"
            ]
          },
          "metadata": {
            "tags": []
          },
          "execution_count": 26
        }
      ]
    },
    {
      "cell_type": "markdown",
      "metadata": {
        "id": "-6n8TCfTbK8N"
      },
      "source": [
        "### Evaluate The Best Model for Logistic Regression"
      ]
    },
    {
      "cell_type": "code",
      "metadata": {
        "id": "xIEOi8FEYcC8"
      },
      "source": [
        "#Create your LR model with the best parameter set.\n",
        "best_LR_model = LogisticRegression(C=0.1, max_iter=2000)\n",
        "#Fit your model on training set.\n",
        "best_LR_model = best_LR_model.fit(LR_train_x, train_y)"
      ],
      "execution_count": 27,
      "outputs": []
    },
    {
      "cell_type": "code",
      "metadata": {
        "id": "9u1ah0awbY4t"
      },
      "source": [
        "# Make predictions on test set\n",
        "LR_predictions = best_LR_model.predict(LR_test_x)"
      ],
      "execution_count": 28,
      "outputs": []
    },
    {
      "cell_type": "code",
      "metadata": {
        "id": "6vH2DKHhbrPa",
        "colab": {
          "base_uri": "https://localhost:8080/"
        },
        "outputId": "3c8aa78e-d8d6-4f63-805c-4a64a5cdee44"
      },
      "source": [
        "# Show your accuracy on test set\n",
        "accuracy_score(test_y,LR_predictions)"
      ],
      "execution_count": 29,
      "outputs": [
        {
          "output_type": "execute_result",
          "data": {
            "text/plain": [
              "0.7484067976633032"
            ]
          },
          "metadata": {
            "tags": []
          },
          "execution_count": 29
        }
      ]
    },
    {
      "cell_type": "markdown",
      "metadata": {
        "id": "exoff4yjb7uI"
      },
      "source": [
        "# Feature Importances"
      ]
    },
    {
      "cell_type": "code",
      "metadata": {
        "id": "ooLctLNhJoki"
      },
      "source": [
        "# Find the each category's most important top 3 features (words) for LR model and show with a dataframe\n",
        "LR_dict = {}\n",
        "words = vectorizer.get_feature_names()\n",
        "\n",
        "for i in range(len(target_groups)):\n",
        "  coefs = best_LR_model.coef_[i].flatten().tolist()\n",
        "  LR_dict[target_groups[i]] = [item[0] for item in sorted(list(zip(words,coefs)),reverse=True,key=lambda x: x[1])[:3]]\n",
        "\n",
        "lr_df = pd.DataFrame(LR_dict)"
      ],
      "execution_count": 30,
      "outputs": []
    },
    {
      "cell_type": "code",
      "metadata": {
        "colab": {
          "base_uri": "https://localhost:8080/",
          "height": 173
        },
        "id": "X8adzgY2mvvT",
        "outputId": "519c6d18-b277-4441-a8fa-327ffa1d7a28"
      },
      "source": [
        "# My Output:\n",
        "lr_df"
      ],
      "execution_count": 31,
      "outputs": [
        {
          "output_type": "execute_result",
          "data": {
            "text/html": [
              "<div>\n",
              "<style scoped>\n",
              "    .dataframe tbody tr th:only-of-type {\n",
              "        vertical-align: middle;\n",
              "    }\n",
              "\n",
              "    .dataframe tbody tr th {\n",
              "        vertical-align: top;\n",
              "    }\n",
              "\n",
              "    .dataframe thead th {\n",
              "        text-align: right;\n",
              "    }\n",
              "</style>\n",
              "<table border=\"1\" class=\"dataframe\">\n",
              "  <thead>\n",
              "    <tr style=\"text-align: right;\">\n",
              "      <th></th>\n",
              "      <th>alt.atheism</th>\n",
              "      <th>comp.graphics</th>\n",
              "      <th>comp.os.ms-windows.misc</th>\n",
              "      <th>comp.sys.ibm.pc.hardware</th>\n",
              "      <th>comp.sys.mac.hardware</th>\n",
              "      <th>comp.windows.x</th>\n",
              "      <th>misc.forsale</th>\n",
              "      <th>rec.autos</th>\n",
              "      <th>rec.motorcycles</th>\n",
              "      <th>rec.sport.baseball</th>\n",
              "      <th>rec.sport.hockey</th>\n",
              "      <th>sci.crypt</th>\n",
              "      <th>sci.electronics</th>\n",
              "      <th>sci.med</th>\n",
              "      <th>sci.space</th>\n",
              "      <th>soc.religion.christian</th>\n",
              "      <th>talk.politics.guns</th>\n",
              "      <th>talk.politics.mideast</th>\n",
              "      <th>talk.politics.misc</th>\n",
              "      <th>talk.religion.misc</th>\n",
              "    </tr>\n",
              "  </thead>\n",
              "  <tbody>\n",
              "    <tr>\n",
              "      <th>0</th>\n",
              "      <td>atheist</td>\n",
              "      <td>graphic</td>\n",
              "      <td>window</td>\n",
              "      <td>monitor</td>\n",
              "      <td>mac</td>\n",
              "      <td>xr</td>\n",
              "      <td>sale</td>\n",
              "      <td>car</td>\n",
              "      <td>dod</td>\n",
              "      <td>basebal</td>\n",
              "      <td>hockey</td>\n",
              "      <td>clipper</td>\n",
              "      <td>circuit</td>\n",
              "      <td>doctor</td>\n",
              "      <td>space</td>\n",
              "      <td>christian</td>\n",
              "      <td>gun</td>\n",
              "      <td>israel</td>\n",
              "      <td>theodor</td>\n",
              "      <td>christian</td>\n",
              "    </tr>\n",
              "    <tr>\n",
              "      <th>1</th>\n",
              "      <td>keith</td>\n",
              "      <td>imag</td>\n",
              "      <td>win</td>\n",
              "      <td>gateway</td>\n",
              "      <td>appl</td>\n",
              "      <td>widget</td>\n",
              "      <td>offer</td>\n",
              "      <td>automot</td>\n",
              "      <td>bike</td>\n",
              "      <td>philli</td>\n",
              "      <td>team</td>\n",
              "      <td>encrypt</td>\n",
              "      <td>electron</td>\n",
              "      <td>diseas</td>\n",
              "      <td>orbit</td>\n",
              "      <td>god</td>\n",
              "      <td>waco</td>\n",
              "      <td>isra</td>\n",
              "      <td>clinton</td>\n",
              "      <td>order</td>\n",
              "    </tr>\n",
              "    <tr>\n",
              "      <th>2</th>\n",
              "      <td>islam</td>\n",
              "      <td>anim</td>\n",
              "      <td>driver</td>\n",
              "      <td>motherboard</td>\n",
              "      <td>powerbook</td>\n",
              "      <td>motif</td>\n",
              "      <td>forsal</td>\n",
              "      <td>auto</td>\n",
              "      <td>motorcycl</td>\n",
              "      <td>yanke</td>\n",
              "      <td>playoff</td>\n",
              "      <td>tap</td>\n",
              "      <td>tv</td>\n",
              "      <td>medic</td>\n",
              "      <td>pat</td>\n",
              "      <td>church</td>\n",
              "      <td>firearm</td>\n",
              "      <td>serdar</td>\n",
              "      <td>libertarian</td>\n",
              "      <td>koresh</td>\n",
              "    </tr>\n",
              "  </tbody>\n",
              "</table>\n",
              "</div>"
            ],
            "text/plain": [
              "  alt.atheism comp.graphics  ... talk.politics.misc talk.religion.misc\n",
              "0     atheist       graphic  ...            theodor          christian\n",
              "1       keith          imag  ...            clinton              order\n",
              "2       islam          anim  ...        libertarian             koresh\n",
              "\n",
              "[3 rows x 20 columns]"
            ]
          },
          "metadata": {
            "tags": []
          },
          "execution_count": 31
        }
      ]
    },
    {
      "cell_type": "code",
      "metadata": {
        "colab": {
          "base_uri": "https://localhost:8080/",
          "height": 181
        },
        "id": "FyrfNfYrKOlg",
        "outputId": "c1c37e8b-a226-45f6-907b-408cf7263656"
      },
      "source": [
        "# It should look like this:\n",
        "lr_df"
      ],
      "execution_count": null,
      "outputs": [
        {
          "output_type": "execute_result",
          "data": {
            "text/html": [
              "<div>\n",
              "<style scoped>\n",
              "    .dataframe tbody tr th:only-of-type {\n",
              "        vertical-align: middle;\n",
              "    }\n",
              "\n",
              "    .dataframe tbody tr th {\n",
              "        vertical-align: top;\n",
              "    }\n",
              "\n",
              "    .dataframe thead th {\n",
              "        text-align: right;\n",
              "    }\n",
              "</style>\n",
              "<table border=\"1\" class=\"dataframe\">\n",
              "  <thead>\n",
              "    <tr style=\"text-align: right;\">\n",
              "      <th></th>\n",
              "      <th>alt.atheism</th>\n",
              "      <th>comp.graphics</th>\n",
              "      <th>comp.os.ms-windows.misc</th>\n",
              "      <th>comp.sys.ibm.pc.hardware</th>\n",
              "      <th>comp.sys.mac.hardware</th>\n",
              "      <th>comp.windows.x</th>\n",
              "      <th>misc.forsale</th>\n",
              "      <th>rec.autos</th>\n",
              "      <th>rec.motorcycles</th>\n",
              "      <th>rec.sport.baseball</th>\n",
              "      <th>rec.sport.hockey</th>\n",
              "      <th>sci.crypt</th>\n",
              "      <th>sci.electronics</th>\n",
              "      <th>sci.med</th>\n",
              "      <th>sci.space</th>\n",
              "      <th>soc.religion.christian</th>\n",
              "      <th>talk.politics.guns</th>\n",
              "      <th>talk.politics.mideast</th>\n",
              "      <th>talk.politics.misc</th>\n",
              "      <th>talk.religion.misc</th>\n",
              "    </tr>\n",
              "  </thead>\n",
              "  <tbody>\n",
              "    <tr>\n",
              "      <th>0</th>\n",
              "      <td>atheist</td>\n",
              "      <td>graphic</td>\n",
              "      <td>window</td>\n",
              "      <td>monitor</td>\n",
              "      <td>mac</td>\n",
              "      <td>xr</td>\n",
              "      <td>sale</td>\n",
              "      <td>car</td>\n",
              "      <td>dod</td>\n",
              "      <td>basebal</td>\n",
              "      <td>hockey</td>\n",
              "      <td>clipper</td>\n",
              "      <td>circuit</td>\n",
              "      <td>doctor</td>\n",
              "      <td>space</td>\n",
              "      <td>christian</td>\n",
              "      <td>gun</td>\n",
              "      <td>israel</td>\n",
              "      <td>theodor</td>\n",
              "      <td>christian</td>\n",
              "    </tr>\n",
              "    <tr>\n",
              "      <th>1</th>\n",
              "      <td>keith</td>\n",
              "      <td>imag</td>\n",
              "      <td>win</td>\n",
              "      <td>gateway</td>\n",
              "      <td>appl</td>\n",
              "      <td>widget</td>\n",
              "      <td>offer</td>\n",
              "      <td>automot</td>\n",
              "      <td>bike</td>\n",
              "      <td>philli</td>\n",
              "      <td>team</td>\n",
              "      <td>encrypt</td>\n",
              "      <td>electron</td>\n",
              "      <td>diseas</td>\n",
              "      <td>orbit</td>\n",
              "      <td>god</td>\n",
              "      <td>waco</td>\n",
              "      <td>isra</td>\n",
              "      <td>clinton</td>\n",
              "      <td>order</td>\n",
              "    </tr>\n",
              "    <tr>\n",
              "      <th>2</th>\n",
              "      <td>islam</td>\n",
              "      <td>anim</td>\n",
              "      <td>driver</td>\n",
              "      <td>motherboard</td>\n",
              "      <td>powerbook</td>\n",
              "      <td>motif</td>\n",
              "      <td>forsal</td>\n",
              "      <td>auto</td>\n",
              "      <td>motorcycl</td>\n",
              "      <td>yanke</td>\n",
              "      <td>playoff</td>\n",
              "      <td>tap</td>\n",
              "      <td>tv</td>\n",
              "      <td>medic</td>\n",
              "      <td>pat</td>\n",
              "      <td>church</td>\n",
              "      <td>firearm</td>\n",
              "      <td>serdar</td>\n",
              "      <td>libertarian</td>\n",
              "      <td>koresh</td>\n",
              "    </tr>\n",
              "  </tbody>\n",
              "</table>\n",
              "</div>"
            ],
            "text/plain": [
              "  alt.atheism comp.graphics  ... talk.politics.misc talk.religion.misc\n",
              "0     atheist       graphic  ...            theodor          christian\n",
              "1       keith          imag  ...            clinton              order\n",
              "2       islam          anim  ...        libertarian             koresh\n",
              "\n",
              "[3 rows x 20 columns]"
            ]
          },
          "metadata": {
            "tags": []
          },
          "execution_count": 98
        }
      ]
    },
    {
      "cell_type": "code",
      "metadata": {
        "id": "3H1cA8uAK42r"
      },
      "source": [
        "# Find the each category's most important top 3 features (words) for NB model and show with a dataframe\n",
        "NB_dict = {}\n",
        "words = vectorizer.get_feature_names()\n",
        "\n",
        "for i in range(len(target_groups)):\n",
        "  coefs = best_NB_model.coef_[i].flatten().tolist()\n",
        "  NB_dict[target_groups[i]] = [item[0] for item in sorted(list(zip(words,coefs)),reverse=True,key=lambda x: x[1])[:3]]\n",
        "\n",
        "nb_df = pd.DataFrame(NB_dict)"
      ],
      "execution_count": 32,
      "outputs": []
    },
    {
      "cell_type": "code",
      "metadata": {
        "colab": {
          "base_uri": "https://localhost:8080/",
          "height": 173
        },
        "id": "pTOktyf0f9xu",
        "outputId": "745c3c68-b66f-4a2c-f93a-bda1e48bb8ef"
      },
      "source": [
        "# My Output:\n",
        "nb_df"
      ],
      "execution_count": 33,
      "outputs": [
        {
          "output_type": "execute_result",
          "data": {
            "text/html": [
              "<div>\n",
              "<style scoped>\n",
              "    .dataframe tbody tr th:only-of-type {\n",
              "        vertical-align: middle;\n",
              "    }\n",
              "\n",
              "    .dataframe tbody tr th {\n",
              "        vertical-align: top;\n",
              "    }\n",
              "\n",
              "    .dataframe thead th {\n",
              "        text-align: right;\n",
              "    }\n",
              "</style>\n",
              "<table border=\"1\" class=\"dataframe\">\n",
              "  <thead>\n",
              "    <tr style=\"text-align: right;\">\n",
              "      <th></th>\n",
              "      <th>alt.atheism</th>\n",
              "      <th>comp.graphics</th>\n",
              "      <th>comp.os.ms-windows.misc</th>\n",
              "      <th>comp.sys.ibm.pc.hardware</th>\n",
              "      <th>comp.sys.mac.hardware</th>\n",
              "      <th>comp.windows.x</th>\n",
              "      <th>misc.forsale</th>\n",
              "      <th>rec.autos</th>\n",
              "      <th>rec.motorcycles</th>\n",
              "      <th>rec.sport.baseball</th>\n",
              "      <th>rec.sport.hockey</th>\n",
              "      <th>sci.crypt</th>\n",
              "      <th>sci.electronics</th>\n",
              "      <th>sci.med</th>\n",
              "      <th>sci.space</th>\n",
              "      <th>soc.religion.christian</th>\n",
              "      <th>talk.politics.guns</th>\n",
              "      <th>talk.politics.mideast</th>\n",
              "      <th>talk.politics.misc</th>\n",
              "      <th>talk.religion.misc</th>\n",
              "    </tr>\n",
              "  </thead>\n",
              "  <tbody>\n",
              "    <tr>\n",
              "      <th>0</th>\n",
              "      <td>god</td>\n",
              "      <td>imag</td>\n",
              "      <td>window</td>\n",
              "      <td>drive</td>\n",
              "      <td>mac</td>\n",
              "      <td>window</td>\n",
              "      <td>sale</td>\n",
              "      <td>car</td>\n",
              "      <td>bike</td>\n",
              "      <td>year</td>\n",
              "      <td>team</td>\n",
              "      <td>key</td>\n",
              "      <td>wire</td>\n",
              "      <td>peopl</td>\n",
              "      <td>space</td>\n",
              "      <td>god</td>\n",
              "      <td>gun</td>\n",
              "      <td>armenian</td>\n",
              "      <td>peopl</td>\n",
              "      <td>god</td>\n",
              "    </tr>\n",
              "    <tr>\n",
              "      <th>1</th>\n",
              "      <td>peopl</td>\n",
              "      <td>file</td>\n",
              "      <td>file</td>\n",
              "      <td>card</td>\n",
              "      <td>appl</td>\n",
              "      <td>file</td>\n",
              "      <td>new</td>\n",
              "      <td>engin</td>\n",
              "      <td>dod</td>\n",
              "      <td>game</td>\n",
              "      <td>game</td>\n",
              "      <td>encrypt</td>\n",
              "      <td>ground</td>\n",
              "      <td>msg</td>\n",
              "      <td>orbit</td>\n",
              "      <td>christian</td>\n",
              "      <td>peopl</td>\n",
              "      <td>peopl</td>\n",
              "      <td>go</td>\n",
              "      <td>christian</td>\n",
              "    </tr>\n",
              "    <tr>\n",
              "      <th>2</th>\n",
              "      <td>say</td>\n",
              "      <td>graphic</td>\n",
              "      <td>driver</td>\n",
              "      <td>scsi</td>\n",
              "      <td>problem</td>\n",
              "      <td>program</td>\n",
              "      <td>offer</td>\n",
              "      <td>good</td>\n",
              "      <td>ride</td>\n",
              "      <td>team</td>\n",
              "      <td>play</td>\n",
              "      <td>chip</td>\n",
              "      <td>work</td>\n",
              "      <td>medic</td>\n",
              "      <td>launch</td>\n",
              "      <td>peopl</td>\n",
              "      <td>right</td>\n",
              "      <td>israel</td>\n",
              "      <td>think</td>\n",
              "      <td>peopl</td>\n",
              "    </tr>\n",
              "  </tbody>\n",
              "</table>\n",
              "</div>"
            ],
            "text/plain": [
              "  alt.atheism comp.graphics  ... talk.politics.misc talk.religion.misc\n",
              "0         god          imag  ...              peopl                god\n",
              "1       peopl          file  ...                 go          christian\n",
              "2         say       graphic  ...              think              peopl\n",
              "\n",
              "[3 rows x 20 columns]"
            ]
          },
          "metadata": {
            "tags": []
          },
          "execution_count": 33
        }
      ]
    },
    {
      "cell_type": "code",
      "metadata": {
        "colab": {
          "base_uri": "https://localhost:8080/",
          "height": 181
        },
        "id": "WtwfzWhgLhF4",
        "outputId": "740a10c2-9a45-471f-c6b7-82fc58b5795a"
      },
      "source": [
        "# It should look like this:\n",
        "nb_df"
      ],
      "execution_count": null,
      "outputs": [
        {
          "output_type": "execute_result",
          "data": {
            "text/html": [
              "<div>\n",
              "<style scoped>\n",
              "    .dataframe tbody tr th:only-of-type {\n",
              "        vertical-align: middle;\n",
              "    }\n",
              "\n",
              "    .dataframe tbody tr th {\n",
              "        vertical-align: top;\n",
              "    }\n",
              "\n",
              "    .dataframe thead th {\n",
              "        text-align: right;\n",
              "    }\n",
              "</style>\n",
              "<table border=\"1\" class=\"dataframe\">\n",
              "  <thead>\n",
              "    <tr style=\"text-align: right;\">\n",
              "      <th></th>\n",
              "      <th>alt.atheism</th>\n",
              "      <th>comp.graphics</th>\n",
              "      <th>comp.os.ms-windows.misc</th>\n",
              "      <th>comp.sys.ibm.pc.hardware</th>\n",
              "      <th>comp.sys.mac.hardware</th>\n",
              "      <th>comp.windows.x</th>\n",
              "      <th>misc.forsale</th>\n",
              "      <th>rec.autos</th>\n",
              "      <th>rec.motorcycles</th>\n",
              "      <th>rec.sport.baseball</th>\n",
              "      <th>rec.sport.hockey</th>\n",
              "      <th>sci.crypt</th>\n",
              "      <th>sci.electronics</th>\n",
              "      <th>sci.med</th>\n",
              "      <th>sci.space</th>\n",
              "      <th>soc.religion.christian</th>\n",
              "      <th>talk.politics.guns</th>\n",
              "      <th>talk.politics.mideast</th>\n",
              "      <th>talk.politics.misc</th>\n",
              "      <th>talk.religion.misc</th>\n",
              "    </tr>\n",
              "  </thead>\n",
              "  <tbody>\n",
              "    <tr>\n",
              "      <th>0</th>\n",
              "      <td>god</td>\n",
              "      <td>imag</td>\n",
              "      <td>window</td>\n",
              "      <td>drive</td>\n",
              "      <td>mac</td>\n",
              "      <td>window</td>\n",
              "      <td>sale</td>\n",
              "      <td>car</td>\n",
              "      <td>bike</td>\n",
              "      <td>year</td>\n",
              "      <td>team</td>\n",
              "      <td>key</td>\n",
              "      <td>wire</td>\n",
              "      <td>peopl</td>\n",
              "      <td>space</td>\n",
              "      <td>god</td>\n",
              "      <td>gun</td>\n",
              "      <td>armenian</td>\n",
              "      <td>peopl</td>\n",
              "      <td>god</td>\n",
              "    </tr>\n",
              "    <tr>\n",
              "      <th>1</th>\n",
              "      <td>peopl</td>\n",
              "      <td>file</td>\n",
              "      <td>file</td>\n",
              "      <td>card</td>\n",
              "      <td>appl</td>\n",
              "      <td>file</td>\n",
              "      <td>new</td>\n",
              "      <td>engin</td>\n",
              "      <td>dod</td>\n",
              "      <td>game</td>\n",
              "      <td>game</td>\n",
              "      <td>encrypt</td>\n",
              "      <td>ground</td>\n",
              "      <td>msg</td>\n",
              "      <td>orbit</td>\n",
              "      <td>christian</td>\n",
              "      <td>peopl</td>\n",
              "      <td>peopl</td>\n",
              "      <td>go</td>\n",
              "      <td>christian</td>\n",
              "    </tr>\n",
              "    <tr>\n",
              "      <th>2</th>\n",
              "      <td>say</td>\n",
              "      <td>graphic</td>\n",
              "      <td>driver</td>\n",
              "      <td>scsi</td>\n",
              "      <td>problem</td>\n",
              "      <td>program</td>\n",
              "      <td>offer</td>\n",
              "      <td>good</td>\n",
              "      <td>ride</td>\n",
              "      <td>team</td>\n",
              "      <td>play</td>\n",
              "      <td>chip</td>\n",
              "      <td>work</td>\n",
              "      <td>medic</td>\n",
              "      <td>launch</td>\n",
              "      <td>peopl</td>\n",
              "      <td>right</td>\n",
              "      <td>israel</td>\n",
              "      <td>think</td>\n",
              "      <td>peopl</td>\n",
              "    </tr>\n",
              "  </tbody>\n",
              "</table>\n",
              "</div>"
            ],
            "text/plain": [
              "  alt.atheism comp.graphics  ... talk.politics.misc talk.religion.misc\n",
              "0         god          imag  ...              peopl                god\n",
              "1       peopl          file  ...                 go          christian\n",
              "2         say       graphic  ...              think              peopl\n",
              "\n",
              "[3 rows x 20 columns]"
            ]
          },
          "metadata": {
            "tags": []
          },
          "execution_count": 103
        }
      ]
    },
    {
      "cell_type": "markdown",
      "metadata": {
        "id": "nPWqanx2QgmX"
      },
      "source": [
        "# **Notebook & Report**\n",
        "\n",
        "Notebook: We may just look at your notebook results; so make sure each cell is run and outputs are there.\n",
        "\n",
        "Report: Write an at most 1/2 page summary of your approach to this problem at the end of your notebook; this should be like an abstract of a paper or the executive summary.\n",
        "\n",
        "Must include statements such as:\n",
        "\n",
        "( Include the problem definition: 1-2 lines )\n",
        "\n",
        "(Talk about any preprocessing you did, explain your reasoning)\n",
        "\n",
        "(Talk about train/test sets, size and how split)\n",
        "\n",
        "(State what your test results are with the chosen method, parameters: e.g. \"We have obtained the best results with the ….. classifier (parameters=....) , giving classification accuracy of …% on test data….\")\n",
        "\n",
        "(Comment on feature importances of models)\n",
        "\n",
        "(Comment on anything that you deem important/interesting)\n",
        "\n",
        "\n",
        "You will get full points from here as long as you have a good (enough) summary of your work, regardless of your best performance or what you have decided to talk about in the last few lines.\n",
        "\n"
      ]
    },
    {
      "cell_type": "markdown",
      "metadata": {
        "id": "rTkzSQwJRHFE"
      },
      "source": [
        "# **Write your report in this cell**\n",
        "\n",
        "**My Report**\n",
        "\n",
        "**Problem Definition:** \n",
        "\n",
        "In this homework, given 20 Newsgroup Dataset, our task was to use Naive Bayes and Logistic Regression models to classify the documents regarding their content topics.\n",
        "\n",
        "**For preprocessing:** \n",
        "\n",
        "No extra preprocessing was done other than what was given in the original .ipynb file. I tried to include only the messages (by excluding `From:`, `Lines:` etc.) but my (or should I say lack of) regex knowledge was not enough to achieve what I was going for, so I skipped this part.\n",
        "\n",
        "**Train/val/test sets, size and how split:** \n",
        "\n",
        "I did not split the data into train and test sets as it was originally given seperately, but by checking the data, it seems that there are 11314 instances for training and 7532 instances for testing.\n",
        "\n",
        "With training data, used Grid Search for both models to scan the hyperparameters and find the best hyperparameter set that will maximize the accuracy. For Naive Bayes, the value of $alpha$ that maximized the accuracy is 0.5, and for Logistic Regression, the value of $C$ that maximized the accuracy is 0.1.\n",
        "\n",
        "\n",
        "**Test results, best hyperparameters, classification accuracy scores:**\n",
        "\n",
        "We have obtained the best results with the Naive Bayes model (`hyperparameters=(alpha=0.5)`), giving classification accuracy of 75.56% on test data.\n",
        "\n",
        "The best Logistic Regression model (`hyperparameters=(C=0.1)`), gave classification accuracy of 74.84% on test data.\n",
        "\n",
        "**Feature importances of models:**\n",
        "\n",
        "Top 3 features (or words) of certain categories seem to be completely different when we compare Naive Bayes and Logistic Regression models. One example being: `comp.sys.ibm.pc.hardware` category. For `comp.sys.ibm.pc.hardware` category, in NB model top 3 words are `[monitor, gateway, motherboard]`, but in LR model top 3 words are `[drive, card, scsi]`.\n",
        "\n",
        "\n",
        "**Comments:**\n",
        "\n",
        "I was expecting the Logistic Regression model to perform better (since training accuracy is higher), but Naive Bayes model performed better. I believe the cause of this might be related to the fact that discriminative models are prone to overfitting compared to generative models."
      ]
    },
    {
      "cell_type": "markdown",
      "metadata": {
        "id": "U5luVvQnRJr7"
      },
      "source": [
        "# **Submission**\n",
        "You will submit this homework via SUCourse.\n",
        "\n",
        "\n",
        "Please read this document again before submitting it.\n",
        "\n",
        "Please submit your **\"share link\" INLINE in Sucourse submissions.** That is we should be able to click on the link and go there and run (and possibly also modify) your code.\n",
        "\n",
        "For us to be able to modify, in case of errors etc, you should get your \"share link\" as **share with anyone in edit mode** \n",
        "\n",
        "Download the **.ipynb and the .html** file and upload both of them to Sucourse.\n",
        " \n",
        "Please do your assignment individually, do not copy from a friend or the Internet. Plagiarized assignments will receive -100.\n"
      ]
    }
  ]
}